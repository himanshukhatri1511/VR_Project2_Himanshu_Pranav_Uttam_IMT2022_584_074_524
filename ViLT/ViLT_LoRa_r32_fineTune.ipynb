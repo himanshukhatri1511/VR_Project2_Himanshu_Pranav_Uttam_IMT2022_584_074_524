{
 "cells": [
  {
   "cell_type": "code",
   "execution_count": 8,
   "metadata": {
    "_cell_guid": "b1076dfc-b9ad-4769-8c92-a6c4dae69d19",
    "_uuid": "8f2839f25d086af736a60e9eeb907d3b93b6e0e5"
   },
   "outputs": [],
   "source": [
    "# requirements\n",
    "\n",
    "# pip install pandas numpy pillow torch torchvision transformers scikit-learn timeout-decorator peft accelerate datasets bitsandbytes bert-score rouge-score rapidfuzz sentence-transformers evaluate"
   ]
  },
  {
   "cell_type": "code",
   "execution_count": null,
   "metadata": {},
   "outputs": [],
   "source": [
    "import os\n",
    "import pandas as pd\n",
    "from PIL import Image\n",
    "import torch\n",
    "from torch.utils.data import Dataset\n",
    "from transformers import (\n",
    "    ViltProcessor,\n",
    "    ViltModel,\n",
    "\n",
    "    PreTrainedModel,\n",
    "    Trainer,\n",
    "ViltForQuestionAnswering,\n",
    "    TrainingArguments,\n",
    "    ViltConfig\n",
    ")\n",
    "from transformers.modeling_outputs import SequenceClassifierOutput\n",
    "from peft import get_peft_model, LoraConfig\n",
    "from accelerate import Accelerator\n",
    "import torch.nn as nn\n",
    "from sklearn.metrics import accuracy_score\n",
    "from bert_score import score as bert_score_fn\n",
    "import matplotlib.pyplot as plt\n",
    "import nltk\n",
    "nltk.download('wordnet')\n",
    "from PIL import Image\n",
    "import matplotlib.pyplot as plt\n",
    "from PIL import Image, ImageOps\n"
   ]
  },
  {
   "cell_type": "code",
   "execution_count": 3,
   "metadata": {},
   "outputs": [],
   "source": [
    "# Setup\n",
    "os.environ[\"TOKENIZERS_PARALLELISM\"] = \"false\"\n",
    "os.environ[\"WANDB_DISABLED\"] = \"true\"\n",
    "accelerator = Accelerator()"
   ]
  },
  {
   "cell_type": "markdown",
   "metadata": {},
   "source": [
    "### Dataset"
   ]
  },
  {
   "cell_type": "code",
   "execution_count": 9,
   "metadata": {},
   "outputs": [],
   "source": [
    "BASE_DIR = \"/kaggle/input/final-train-val\"\n",
    "IMAGE_BASE_PATH = \"/kaggle/input/images\"\n",
    "\n",
    "train_df = pd.read_csv(f\"{BASE_DIR}/train_datapoints.csv\")\n",
    "val_df = pd.read_csv(f\"{BASE_DIR}/val_datapoints.csv\")\n",
    "\n",
    "\n",
    "\n",
    "for df in [train_df, val_df]: \n",
    "    # Fix backslashes to forward slashes\n",
    "    df[\"full_image_path\"] = df[\"full_image_path\"].str.replace(\"\\\\\\\\\", \"/\", regex=True)\n",
    "    \n",
    "    df[\"full_image_path\"] = df[\"full_image_path\"].apply(lambda x: os.path.join(IMAGE_BASE_PATH, x))\n",
    "    df['answer'] = df['answer'].fillna('unknown')\n"
   ]
  },
  {
   "cell_type": "code",
   "execution_count": 6,
   "metadata": {},
   "outputs": [],
   "source": [
    "# Load processor and base model\n",
    "processor = ViltProcessor.from_pretrained(\"dandelin/vilt-b32-finetuned-vqa\")\n",
    "vilt_base = ViltModel.from_pretrained(\"dandelin/vilt-b32-finetuned-vqa\")\n"
   ]
  },
  {
   "cell_type": "code",
   "execution_count": 5,
   "metadata": {},
   "outputs": [
    {
     "data": {
      "text/html": [
       "<div>\n",
       "<style scoped>\n",
       "    .dataframe tbody tr th:only-of-type {\n",
       "        vertical-align: middle;\n",
       "    }\n",
       "\n",
       "    .dataframe tbody tr th {\n",
       "        vertical-align: top;\n",
       "    }\n",
       "\n",
       "    .dataframe thead th {\n",
       "        text-align: right;\n",
       "    }\n",
       "</style>\n",
       "<table border=\"1\" class=\"dataframe\">\n",
       "  <thead>\n",
       "    <tr style=\"text-align: right;\">\n",
       "      <th></th>\n",
       "      <th>image_id</th>\n",
       "      <th>full_image_path</th>\n",
       "      <th>question</th>\n",
       "      <th>answer</th>\n",
       "    </tr>\n",
       "  </thead>\n",
       "  <tbody>\n",
       "    <tr>\n",
       "      <th>0</th>\n",
       "      <td>619aXYWDlfL</td>\n",
       "      <td>abo-images-small/images/small/82/8281b602.jpg</td>\n",
       "      <td>what color is the ring?</td>\n",
       "      <td>white</td>\n",
       "    </tr>\n",
       "    <tr>\n",
       "      <th>1</th>\n",
       "      <td>71oqXnBtfUL</td>\n",
       "      <td>abo-images-small/images/small/eb/ebb8f08b.jpg</td>\n",
       "      <td>what color is background?</td>\n",
       "      <td>pink</td>\n",
       "    </tr>\n",
       "    <tr>\n",
       "      <th>2</th>\n",
       "      <td>618rflVTnTL</td>\n",
       "      <td>abo-images-small/images/small/b9/b9c8a85a.jpg</td>\n",
       "      <td>how many stripes are visible?</td>\n",
       "      <td>three</td>\n",
       "    </tr>\n",
       "    <tr>\n",
       "      <th>3</th>\n",
       "      <td>61oFSxHBFLL</td>\n",
       "      <td>abo-images-small/images/small/68/6876f38e.jpg</td>\n",
       "      <td>what is the product?</td>\n",
       "      <td>case</td>\n",
       "    </tr>\n",
       "    <tr>\n",
       "      <th>4</th>\n",
       "      <td>717qOUqAkFL</td>\n",
       "      <td>abo-images-small/images/small/a9/a920ed25.jpg</td>\n",
       "      <td>what is the shape surrounding the image?</td>\n",
       "      <td>oval</td>\n",
       "    </tr>\n",
       "    <tr>\n",
       "      <th>...</th>\n",
       "      <td>...</td>\n",
       "      <td>...</td>\n",
       "      <td>...</td>\n",
       "      <td>...</td>\n",
       "    </tr>\n",
       "    <tr>\n",
       "      <th>55995</th>\n",
       "      <td>71Bz+4y4LRL</td>\n",
       "      <td>abo-images-small/images/small/7a/7a0a3699.jpg</td>\n",
       "      <td>what is the main color?</td>\n",
       "      <td>blue</td>\n",
       "    </tr>\n",
       "    <tr>\n",
       "      <th>55996</th>\n",
       "      <td>61PSTG1tCuL</td>\n",
       "      <td>abo-images-small/images/small/42/42ea42db.jpg</td>\n",
       "      <td>how many buttons are visible?</td>\n",
       "      <td>one</td>\n",
       "    </tr>\n",
       "    <tr>\n",
       "      <th>55997</th>\n",
       "      <td>61+OVTFVWRL</td>\n",
       "      <td>abo-images-small/images/small/03/03564753.jpg</td>\n",
       "      <td>what shape is the sensor?</td>\n",
       "      <td>square</td>\n",
       "    </tr>\n",
       "    <tr>\n",
       "      <th>55998</th>\n",
       "      <td>61eO4Ya4B+L</td>\n",
       "      <td>abo-images-small/images/small/59/5958556d.jpg</td>\n",
       "      <td>how many cameras are visible?</td>\n",
       "      <td>three</td>\n",
       "    </tr>\n",
       "    <tr>\n",
       "      <th>55999</th>\n",
       "      <td>71c1pV+1dGL</td>\n",
       "      <td>abo-images-small/images/small/8f/8f436a16.jpg</td>\n",
       "      <td>what is written?</td>\n",
       "      <td>love</td>\n",
       "    </tr>\n",
       "  </tbody>\n",
       "</table>\n",
       "<p>56000 rows × 4 columns</p>\n",
       "</div>"
      ],
      "text/plain": [
       "          image_id                                full_image_path  \\\n",
       "0      619aXYWDlfL  abo-images-small/images/small/82/8281b602.jpg   \n",
       "1      71oqXnBtfUL  abo-images-small/images/small/eb/ebb8f08b.jpg   \n",
       "2      618rflVTnTL  abo-images-small/images/small/b9/b9c8a85a.jpg   \n",
       "3      61oFSxHBFLL  abo-images-small/images/small/68/6876f38e.jpg   \n",
       "4      717qOUqAkFL  abo-images-small/images/small/a9/a920ed25.jpg   \n",
       "...            ...                                            ...   \n",
       "55995  71Bz+4y4LRL  abo-images-small/images/small/7a/7a0a3699.jpg   \n",
       "55996  61PSTG1tCuL  abo-images-small/images/small/42/42ea42db.jpg   \n",
       "55997  61+OVTFVWRL  abo-images-small/images/small/03/03564753.jpg   \n",
       "55998  61eO4Ya4B+L  abo-images-small/images/small/59/5958556d.jpg   \n",
       "55999  71c1pV+1dGL  abo-images-small/images/small/8f/8f436a16.jpg   \n",
       "\n",
       "                                       question  answer  \n",
       "0                       what color is the ring?   white  \n",
       "1                     what color is background?    pink  \n",
       "2                 how many stripes are visible?   three  \n",
       "3                          what is the product?    case  \n",
       "4      what is the shape surrounding the image?    oval  \n",
       "...                                         ...     ...  \n",
       "55995                   what is the main color?    blue  \n",
       "55996             how many buttons are visible?     one  \n",
       "55997                 what shape is the sensor?  square  \n",
       "55998             how many cameras are visible?   three  \n",
       "55999                          what is written?    love  \n",
       "\n",
       "[56000 rows x 4 columns]"
      ]
     },
     "execution_count": 5,
     "metadata": {},
     "output_type": "execute_result"
    }
   ],
   "source": [
    "train_df"
   ]
  },
  {
   "cell_type": "code",
   "execution_count": 6,
   "metadata": {},
   "outputs": [
    {
     "data": {
      "text/html": [
       "<div>\n",
       "<style scoped>\n",
       "    .dataframe tbody tr th:only-of-type {\n",
       "        vertical-align: middle;\n",
       "    }\n",
       "\n",
       "    .dataframe tbody tr th {\n",
       "        vertical-align: top;\n",
       "    }\n",
       "\n",
       "    .dataframe thead th {\n",
       "        text-align: right;\n",
       "    }\n",
       "</style>\n",
       "<table border=\"1\" class=\"dataframe\">\n",
       "  <thead>\n",
       "    <tr style=\"text-align: right;\">\n",
       "      <th></th>\n",
       "      <th>image_id</th>\n",
       "      <th>full_image_path</th>\n",
       "      <th>question</th>\n",
       "      <th>answer</th>\n",
       "    </tr>\n",
       "  </thead>\n",
       "  <tbody>\n",
       "    <tr>\n",
       "      <th>0</th>\n",
       "      <td>71uK-r+TRtL</td>\n",
       "      <td>abo-images-small/images/small/bc/bc859253.jpg</td>\n",
       "      <td>what is the shape?</td>\n",
       "      <td>rectangular</td>\n",
       "    </tr>\n",
       "    <tr>\n",
       "      <th>1</th>\n",
       "      <td>81qDgeDk8UL</td>\n",
       "      <td>abo-images-small/images/small/dc/dc90df81.jpg</td>\n",
       "      <td>what is more prominent, the dark or light part?</td>\n",
       "      <td>dark</td>\n",
       "    </tr>\n",
       "    <tr>\n",
       "      <th>2</th>\n",
       "      <td>61JHYkmJsKL</td>\n",
       "      <td>abo-images-small/images/small/88/88d73c91.jpg</td>\n",
       "      <td>which word is smaller, \"time\" or \"aayega\"?</td>\n",
       "      <td>time</td>\n",
       "    </tr>\n",
       "    <tr>\n",
       "      <th>3</th>\n",
       "      <td>51Ftiw-ZG8L</td>\n",
       "      <td>abo-images-small/images/small/a9/a9ebb518.jpg</td>\n",
       "      <td>what time is shown?</td>\n",
       "      <td>8:08</td>\n",
       "    </tr>\n",
       "    <tr>\n",
       "      <th>4</th>\n",
       "      <td>61S5Jup3CJL</td>\n",
       "      <td>abo-images-small/images/small/d7/d7e9fd72.jpg</td>\n",
       "      <td>what color is the background?</td>\n",
       "      <td>pink</td>\n",
       "    </tr>\n",
       "    <tr>\n",
       "      <th>...</th>\n",
       "      <td>...</td>\n",
       "      <td>...</td>\n",
       "      <td>...</td>\n",
       "      <td>...</td>\n",
       "    </tr>\n",
       "    <tr>\n",
       "      <th>13995</th>\n",
       "      <td>71ouLd7oCrL</td>\n",
       "      <td>abo-images-small/images/small/f8/f83f60fe.jpg</td>\n",
       "      <td>are the letters capitalized?</td>\n",
       "      <td>yes</td>\n",
       "    </tr>\n",
       "    <tr>\n",
       "      <th>13996</th>\n",
       "      <td>71cFOSxSUyL</td>\n",
       "      <td>abo-images-small/images/small/4a/4ab940f6.jpg</td>\n",
       "      <td>how many mountains shown?</td>\n",
       "      <td>one</td>\n",
       "    </tr>\n",
       "    <tr>\n",
       "      <th>13997</th>\n",
       "      <td>81a+1NpiqyL</td>\n",
       "      <td>abo-images-small/images/small/ec/eca80999.jpg</td>\n",
       "      <td>what is the dominant color?</td>\n",
       "      <td>blue</td>\n",
       "    </tr>\n",
       "    <tr>\n",
       "      <th>13998</th>\n",
       "      <td>71QbwKb0hbL</td>\n",
       "      <td>abo-images-small/images/small/01/010c3e4d.jpg</td>\n",
       "      <td>what color is the dog's nose?</td>\n",
       "      <td>black</td>\n",
       "    </tr>\n",
       "    <tr>\n",
       "      <th>13999</th>\n",
       "      <td>71UOLbybMnL</td>\n",
       "      <td>abo-images-small/images/small/cb/cb2cc9e6.jpg</td>\n",
       "      <td>what is the pattern?</td>\n",
       "      <td>stars</td>\n",
       "    </tr>\n",
       "  </tbody>\n",
       "</table>\n",
       "<p>14000 rows × 4 columns</p>\n",
       "</div>"
      ],
      "text/plain": [
       "          image_id                                full_image_path  \\\n",
       "0      71uK-r+TRtL  abo-images-small/images/small/bc/bc859253.jpg   \n",
       "1      81qDgeDk8UL  abo-images-small/images/small/dc/dc90df81.jpg   \n",
       "2      61JHYkmJsKL  abo-images-small/images/small/88/88d73c91.jpg   \n",
       "3      51Ftiw-ZG8L  abo-images-small/images/small/a9/a9ebb518.jpg   \n",
       "4      61S5Jup3CJL  abo-images-small/images/small/d7/d7e9fd72.jpg   \n",
       "...            ...                                            ...   \n",
       "13995  71ouLd7oCrL  abo-images-small/images/small/f8/f83f60fe.jpg   \n",
       "13996  71cFOSxSUyL  abo-images-small/images/small/4a/4ab940f6.jpg   \n",
       "13997  81a+1NpiqyL  abo-images-small/images/small/ec/eca80999.jpg   \n",
       "13998  71QbwKb0hbL  abo-images-small/images/small/01/010c3e4d.jpg   \n",
       "13999  71UOLbybMnL  abo-images-small/images/small/cb/cb2cc9e6.jpg   \n",
       "\n",
       "                                              question       answer  \n",
       "0                                   what is the shape?  rectangular  \n",
       "1      what is more prominent, the dark or light part?         dark  \n",
       "2           which word is smaller, \"time\" or \"aayega\"?         time  \n",
       "3                                  what time is shown?         8:08  \n",
       "4                        what color is the background?         pink  \n",
       "...                                                ...          ...  \n",
       "13995                     are the letters capitalized?          yes  \n",
       "13996                        how many mountains shown?          one  \n",
       "13997                      what is the dominant color?         blue  \n",
       "13998                    what color is the dog's nose?        black  \n",
       "13999                             what is the pattern?        stars  \n",
       "\n",
       "[14000 rows x 4 columns]"
      ]
     },
     "execution_count": 6,
     "metadata": {},
     "output_type": "execute_result"
    }
   ],
   "source": [
    "val_df"
   ]
  },
  {
   "cell_type": "markdown",
   "metadata": {},
   "source": [
    "### Checking Image path"
   ]
  },
  {
   "cell_type": "code",
   "execution_count": 7,
   "metadata": {},
   "outputs": [
    {
     "data": {
      "image/png": "[encoded data removed]",
      "text/plain": [
       "<Figure size 640x480 with 1 Axes>"
      ]
     },
     "metadata": {},
     "output_type": "display_data"
    }
   ],
   "source": [
    "\n",
    "# === Display first image to verify path works ===\n",
    "img_path = train_df['full_image_path'].iloc[0]\n",
    "img = Image.open(img_path).convert(\"RGB\")\n",
    "\n",
    "\n",
    "plt.imshow(img)\n",
    "plt.axis('off')  \n",
    "plt.show()"
   ]
  },
  {
   "cell_type": "code",
   "execution_count": 14,
   "metadata": {},
   "outputs": [],
   "source": [
    "# Creating the answer_to_idx mapping \n",
    "all_answers = list(set(train_df['answer'].tolist() + val_df['answer'].tolist()))\n",
    "answer_to_idx = {a: i for i, a in enumerate(all_answers)}\n",
    "num_labels = len(answer_to_idx)\n",
    "print(\"Number of classes:\", num_labels)\n",
    "\n",
    "# Adjusting classification head to match your label count\n",
    "model.config.num_labels = num_labels\n",
    "model.classifier = torch.nn.Linear(model.classifier.in_features, num_labels)"
   ]
  },
  {
   "cell_type": "markdown",
   "metadata": {},
   "source": [
    "### This Custom Dataset class loads image question answer pairs and encodes them with processo"
   ]
  },
  {
   "cell_type": "code",
   "execution_count": 66,
   "metadata": {
    "execution": {
     "iopub.execute_input": "2025-05-16T03:59:23.204859Z",
     "iopub.status.busy": "2025-05-16T03:59:23.204601Z",
     "iopub.status.idle": "2025-05-16T03:59:23.213028Z",
     "shell.execute_reply": "2025-05-16T03:59:23.212449Z",
     "shell.execute_reply.started": "2025-05-16T03:59:23.204841Z"
    }
   },
   "outputs": [],
   "source": [
    "\n",
    "\n",
    "# Dataset class\n",
    "class VQADataset(Dataset):\n",
    "    def __init__(self, df, processor, answer_to_idx):\n",
    "        self.df = df\n",
    "        self.processor = processor\n",
    "        self.answer_to_idx = answer_to_idx\n",
    "\n",
    "    def __len__(self):\n",
    "        return len(self.df)\n",
    "\n",
    "    def __getitem__(self, idx):\n",
    "        row = self.df.iloc[idx]\n",
    "        image_path = row['full_image_path']\n",
    "        try:\n",
    "            image = Image.open(image_path).convert(\"RGB\")\n",
    "        except:\n",
    "            image = Image.new(\"RGB\", (224, 224))  # fallback blank image\n",
    "\n",
    "        # Aspect ratio preserved and padding\n",
    "        image = ImageOps.pad(\n",
    "            image,\n",
    "            size=(384, 384),\n",
    "            method=Image.BICUBIC,\n",
    "            color=(0, 0, 0)\n",
    "        )\n",
    "\n",
    "\n",
    "        encoding = self.processor(\n",
    "            text=row['question'],\n",
    "            images=image,\n",
    "            return_tensors=\"pt\",\n",
    "            padding=\"max_length\",\n",
    "            truncation=True,\n",
    "            max_length=40\n",
    "        )\n",
    "\n",
    "        if \"inputs_embeds\" in encoding:\n",
    "            del encoding[\"inputs_embeds\"]\n",
    "            \n",
    "        label = torch.tensor(self.answer_to_idx.get(row[\"answer\"], 0), dtype=torch.long)\n",
    "\n",
    "        item = {k: v.squeeze(0) for k, v in encoding.items()}\n",
    "        item[\"labels\"] = label\n",
    "        return item"
   ]
  },
  {
   "cell_type": "code",
   "execution_count": 67,
   "metadata": {
    "execution": {
     "iopub.execute_input": "2025-05-16T03:59:23.215415Z",
     "iopub.status.busy": "2025-05-16T03:59:23.215206Z",
     "iopub.status.idle": "2025-05-16T03:59:23.228124Z",
     "shell.execute_reply": "2025-05-16T03:59:23.227530Z",
     "shell.execute_reply.started": "2025-05-16T03:59:23.215399Z"
    }
   },
   "outputs": [],
   "source": [
    "\n",
    "# Create datasets\n",
    "train_dataset = VQADataset(train_df, processor, answer_to_idx)\n",
    "val_dataset = VQADataset(val_df, processor, answer_to_idx)"
   ]
  },
  {
   "cell_type": "markdown",
   "metadata": {},
   "source": [
    "## LoRa Config"
   ]
  },
  {
   "cell_type": "code",
   "execution_count": null,
   "metadata": {
    "execution": {
     "iopub.execute_input": "2025-05-16T03:59:23.378576Z",
     "iopub.status.busy": "2025-05-16T03:59:23.378373Z",
     "iopub.status.idle": "2025-05-16T03:59:23.431130Z",
     "shell.execute_reply": "2025-05-16T03:59:23.430555Z",
     "shell.execute_reply.started": "2025-05-16T03:59:23.378555Z"
    }
   },
   "outputs": [],
   "source": [
    "# LoRA config and apply\n",
    "lora_config = LoraConfig(\n",
    "    r=32,\n",
    "    lora_alpha=64,\n",
    "    target_modules=[\"query\", \"value\"],\n",
    "    lora_dropout=0.1,\n",
    "    bias=\"none\",\n",
    "    task_type=\"SEQ_CLS\"\n",
    ")\n",
    "model = get_peft_model(model, lora_config)\n",
    "print(\"LoRA applied now\")\n",
    "model.print_trainable_parameters()"
   ]
  },
  {
   "cell_type": "markdown",
   "metadata": {},
   "source": [
    "### Setting up training arguments and initialize Trainer for fine-tuning the VQA model"
   ]
  },
  {
   "cell_type": "code",
   "execution_count": 70,
   "metadata": {
    "execution": {
     "iopub.execute_input": "2025-05-16T03:59:23.431985Z",
     "iopub.status.busy": "2025-05-16T03:59:23.431800Z",
     "iopub.status.idle": "2025-05-16T03:59:26.906617Z",
     "shell.execute_reply": "2025-05-16T03:59:26.905986Z",
     "shell.execute_reply.started": "2025-05-16T03:59:23.431971Z"
    }
   },
   "outputs": [
    {
     "name": "stderr",
     "output_type": "stream",
     "text": [
      "Using the `WANDB_DISABLED` environment variable is deprecated and will be removed in v5. Use the --report_to flag to control the integrations used for logging result (for instance --report_to none).\n"
     ]
    },
    {
     "name": "stdout",
     "output_type": "stream",
     "text": [
      "Requirement already satisfied: bert-score in /usr/local/lib/python3.11/dist-packages (0.3.13)\n",
      "Requirement already satisfied: torch>=1.0.0 in /usr/local/lib/python3.11/dist-packages (from bert-score) (2.6.0+cu124)\n",
      "Requirement already satisfied: pandas>=1.0.1 in /usr/local/lib/python3.11/dist-packages (from bert-score) (2.2.3)\n",
      "Requirement already satisfied: transformers>=3.0.0 in /usr/local/lib/python3.11/dist-packages (from bert-score) (4.51.3)\n",
      "Requirement already satisfied: numpy in /usr/local/lib/python3.11/dist-packages (from bert-score) (1.26.4)\n",
      "Requirement already satisfied: requests in /usr/local/lib/python3.11/dist-packages (from bert-score) (2.32.3)\n",
      "Requirement already satisfied: tqdm>=4.31.1 in /usr/local/lib/python3.11/dist-packages (from bert-score) (4.67.1)\n",
      "Requirement already satisfied: matplotlib in /usr/local/lib/python3.11/dist-packages (from bert-score) (3.7.2)\n",
      "Requirement already satisfied: packaging>=20.9 in /usr/local/lib/python3.11/dist-packages (from bert-score) (25.0)\n",
      "Requirement already satisfied: python-dateutil>=2.8.2 in /usr/local/lib/python3.11/dist-packages (from pandas>=1.0.1->bert-score) (2.9.0.post0)\n",
      "Requirement already satisfied: pytz>=2020.1 in /usr/local/lib/python3.11/dist-packages (from pandas>=1.0.1->bert-score) (2025.2)\n",
      "Requirement already satisfied: tzdata>=2022.7 in /usr/local/lib/python3.11/dist-packages (from pandas>=1.0.1->bert-score) (2025.2)\n",
      "Requirement already satisfied: mkl_fft in /usr/local/lib/python3.11/dist-packages (from numpy->bert-score) (1.3.8)\n",
      "Requirement already satisfied: mkl_random in /usr/local/lib/python3.11/dist-packages (from numpy->bert-score) (1.2.4)\n",
      "Requirement already satisfied: mkl_umath in /usr/local/lib/python3.11/dist-packages (from numpy->bert-score) (0.1.1)\n",
      "Requirement already satisfied: mkl in /usr/local/lib/python3.11/dist-packages (from numpy->bert-score) (2025.1.0)\n",
      "Requirement already satisfied: tbb4py in /usr/local/lib/python3.11/dist-packages (from numpy->bert-score) (2022.1.0)\n",
      "Requirement already satisfied: mkl-service in /usr/local/lib/python3.11/dist-packages (from numpy->bert-score) (2.4.1)\n",
      "Requirement already satisfied: filelock in /usr/local/lib/python3.11/dist-packages (from torch>=1.0.0->bert-score) (3.18.0)\n",
      "Requirement already satisfied: typing-extensions>=4.10.0 in /usr/local/lib/python3.11/dist-packages (from torch>=1.0.0->bert-score) (4.13.2)\n",
      "Requirement already satisfied: networkx in /usr/local/lib/python3.11/dist-packages (from torch>=1.0.0->bert-score) (3.4.2)\n",
      "Requirement already satisfied: jinja2 in /usr/local/lib/python3.11/dist-packages (from torch>=1.0.0->bert-score) (3.1.6)\n",
      "Requirement already satisfied: fsspec in /usr/local/lib/python3.11/dist-packages (from torch>=1.0.0->bert-score) (2025.3.2)\n",
      "Requirement already satisfied: nvidia-cuda-nvrtc-cu12==12.4.127 in /usr/local/lib/python3.11/dist-packages (from torch>=1.0.0->bert-score) (12.4.127)\n",
      "Requirement already satisfied: nvidia-cuda-runtime-cu12==12.4.127 in /usr/local/lib/python3.11/dist-packages (from torch>=1.0.0->bert-score) (12.4.127)\n",
      "Requirement already satisfied: nvidia-cuda-cupti-cu12==12.4.127 in /usr/local/lib/python3.11/dist-packages (from torch>=1.0.0->bert-score) (12.4.127)\n",
      "Requirement already satisfied: nvidia-cudnn-cu12==9.1.0.70 in /usr/local/lib/python3.11/dist-packages (from torch>=1.0.0->bert-score) (9.1.0.70)\n",
      "Requirement already satisfied: nvidia-cublas-cu12==12.4.5.8 in /usr/local/lib/python3.11/dist-packages (from torch>=1.0.0->bert-score) (12.4.5.8)\n",
      "Requirement already satisfied: nvidia-cufft-cu12==11.2.1.3 in /usr/local/lib/python3.11/dist-packages (from torch>=1.0.0->bert-score) (11.2.1.3)\n",
      "Requirement already satisfied: nvidia-curand-cu12==10.3.5.147 in /usr/local/lib/python3.11/dist-packages (from torch>=1.0.0->bert-score) (10.3.5.147)\n",
      "Requirement already satisfied: nvidia-cusolver-cu12==11.6.1.9 in /usr/local/lib/python3.11/dist-packages (from torch>=1.0.0->bert-score) (11.6.1.9)\n",
      "Requirement already satisfied: nvidia-cusparse-cu12==12.3.1.170 in /usr/local/lib/python3.11/dist-packages (from torch>=1.0.0->bert-score) (12.3.1.170)\n",
      "Requirement already satisfied: nvidia-cusparselt-cu12==0.6.2 in /usr/local/lib/python3.11/dist-packages (from torch>=1.0.0->bert-score) (0.6.2)\n",
      "Requirement already satisfied: nvidia-nccl-cu12==2.21.5 in /usr/local/lib/python3.11/dist-packages (from torch>=1.0.0->bert-score) (2.21.5)\n",
      "Requirement already satisfied: nvidia-nvtx-cu12==12.4.127 in /usr/local/lib/python3.11/dist-packages (from torch>=1.0.0->bert-score) (12.4.127)\n",
      "Requirement already satisfied: nvidia-nvjitlink-cu12==12.4.127 in /usr/local/lib/python3.11/dist-packages (from torch>=1.0.0->bert-score) (12.4.127)\n",
      "Requirement already satisfied: triton==3.2.0 in /usr/local/lib/python3.11/dist-packages (from torch>=1.0.0->bert-score) (3.2.0)\n",
      "Requirement already satisfied: sympy==1.13.1 in /usr/local/lib/python3.11/dist-packages (from torch>=1.0.0->bert-score) (1.13.1)\n",
      "Requirement already satisfied: mpmath<1.4,>=1.1.0 in /usr/local/lib/python3.11/dist-packages (from sympy==1.13.1->torch>=1.0.0->bert-score) (1.3.0)\n",
      "Requirement already satisfied: huggingface-hub<1.0,>=0.30.0 in /usr/local/lib/python3.11/dist-packages (from transformers>=3.0.0->bert-score) (0.31.1)\n",
      "Requirement already satisfied: pyyaml>=5.1 in /usr/local/lib/python3.11/dist-packages (from transformers>=3.0.0->bert-score) (6.0.2)\n",
      "Requirement already satisfied: regex!=2019.12.17 in /usr/local/lib/python3.11/dist-packages (from transformers>=3.0.0->bert-score) (2024.11.6)\n",
      "Requirement already satisfied: tokenizers<0.22,>=0.21 in /usr/local/lib/python3.11/dist-packages (from transformers>=3.0.0->bert-score) (0.21.1)\n",
      "Requirement already satisfied: safetensors>=0.4.3 in /usr/local/lib/python3.11/dist-packages (from transformers>=3.0.0->bert-score) (0.5.3)\n",
      "Requirement already satisfied: contourpy>=1.0.1 in /usr/local/lib/python3.11/dist-packages (from matplotlib->bert-score) (1.3.1)\n",
      "Requirement already satisfied: cycler>=0.10 in /usr/local/lib/python3.11/dist-packages (from matplotlib->bert-score) (0.12.1)\n",
      "Requirement already satisfied: fonttools>=4.22.0 in /usr/local/lib/python3.11/dist-packages (from matplotlib->bert-score) (4.57.0)\n",
      "Requirement already satisfied: kiwisolver>=1.0.1 in /usr/local/lib/python3.11/dist-packages (from matplotlib->bert-score) (1.4.8)\n",
      "Requirement already satisfied: pillow>=6.2.0 in /usr/local/lib/python3.11/dist-packages (from matplotlib->bert-score) (11.1.0)\n",
      "Requirement already satisfied: pyparsing<3.1,>=2.3.1 in /usr/local/lib/python3.11/dist-packages (from matplotlib->bert-score) (3.0.9)\n",
      "Requirement already satisfied: charset-normalizer<4,>=2 in /usr/local/lib/python3.11/dist-packages (from requests->bert-score) (3.4.2)\n",
      "Requirement already satisfied: idna<4,>=2.5 in /usr/local/lib/python3.11/dist-packages (from requests->bert-score) (3.10)\n",
      "Requirement already satisfied: urllib3<3,>=1.21.1 in /usr/local/lib/python3.11/dist-packages (from requests->bert-score) (2.4.0)\n",
      "Requirement already satisfied: certifi>=2017.4.17 in /usr/local/lib/python3.11/dist-packages (from requests->bert-score) (2025.4.26)\n",
      "Requirement already satisfied: hf-xet<2.0.0,>=1.1.0 in /usr/local/lib/python3.11/dist-packages (from huggingface-hub<1.0,>=0.30.0->transformers>=3.0.0->bert-score) (1.1.0)\n",
      "Requirement already satisfied: six>=1.5 in /usr/local/lib/python3.11/dist-packages (from python-dateutil>=2.8.2->pandas>=1.0.1->bert-score) (1.17.0)\n",
      "Requirement already satisfied: MarkupSafe>=2.0 in /usr/local/lib/python3.11/dist-packages (from jinja2->torch>=1.0.0->bert-score) (3.0.2)\n",
      "Requirement already satisfied: intel-openmp<2026,>=2024 in /usr/local/lib/python3.11/dist-packages (from mkl->numpy->bert-score) (2024.2.0)\n",
      "Requirement already satisfied: tbb==2022.* in /usr/local/lib/python3.11/dist-packages (from mkl->numpy->bert-score) (2022.1.0)\n",
      "Requirement already satisfied: tcmlib==1.* in /usr/local/lib/python3.11/dist-packages (from tbb==2022.*->mkl->numpy->bert-score) (1.3.0)\n",
      "Requirement already satisfied: intel-cmplr-lib-rt in /usr/local/lib/python3.11/dist-packages (from mkl_umath->numpy->bert-score) (2024.2.0)\n",
      "Requirement already satisfied: intel-cmplr-lib-ur==2024.2.0 in /usr/local/lib/python3.11/dist-packages (from intel-openmp<2026,>=2024->mkl->numpy->bert-score) (2024.2.0)\n"
     ]
    },
    {
     "name": "stderr",
     "output_type": "stream",
     "text": [
      "/tmp/ipykernel_116/2269512470.py:83: FutureWarning: `tokenizer` is deprecated and will be removed in version 5.0.0 for `Trainer.__init__`. Use `processing_class` instead.\n",
      "  trainer = Trainer(\n",
      "No label_names provided for model class `PeftModelForSequenceClassification`. Since `PeftModel` hides base models input arguments, if label_names is not given, label_names can't be set automatically within `Trainer`. Note that empty label_names list will be used instead.\n"
     ]
    }
   ],
   "source": [
    "os.environ[\"WANDB_DISABLED\"] = \"true\"\n",
    "\n",
    "# Training arguments\n",
    "training_args = TrainingArguments(\n",
    "    output_dir=\"./results\",\n",
    "    num_train_epochs=10,\n",
    "    per_device_train_batch_size=8,\n",
    "    per_device_eval_batch_size=8,\n",
    "    learning_rate=4e-5,\n",
    "    logging_dir=\"./logs\",\n",
    "    logging_steps=10,\n",
    "    fp16=True,\n",
    "    remove_unused_columns=False,\n",
    "    disable_tqdm=False,\n",
    "    save_strategy=\"epoch\",\n",
    "    eval_strategy=\"epoch\",  # Evaluate on validation set each epoch\n",
    "    load_best_model_at_end=True,\n",
    "    metric_for_best_model=\"accuracy\",\n",
    ")\n",
    "\n",
    "!pip install bert-score\n",
    "from sklearn.metrics import accuracy_score\n",
    "from bert_score import score as bert_score_fn\n",
    "\n",
    "from sklearn.metrics import accuracy_score, f1_score\n",
    "from nltk.corpus import wordnet\n",
    "\n",
    "def is_synonym(pred, label):\n",
    "    \"\"\"Check if pred is a synonym of label using WordNet.\"\"\"\n",
    "    pred, label = pred.lower(), label.lower()\n",
    "    synsets = wordnet.synsets(label)\n",
    "    for s in synsets:\n",
    "        for lemma in s.lemmas():\n",
    "            if pred == lemma.name().lower():\n",
    "                return True\n",
    "    return False\n",
    "\n",
    "def compute_metrics(eval_pred):\n",
    "    predictions, labels = eval_pred\n",
    "    preds = predictions.argmax(axis=1)\n",
    "\n",
    "    acc = accuracy_score(labels, preds)\n",
    "\n",
    "    # Convert label indices to text\n",
    "    idx_to_answer = {v: k for k, v in answer_to_idx.items()}\n",
    "    pred_texts = [idx_to_answer[p] for p in preds]\n",
    "    label_texts = [idx_to_answer[l] for l in labels]\n",
    "\n",
    "    # F1 Score (macro)\n",
    "    f1 = f1_score(labels, preds, average=\"macro\")\n",
    "\n",
    "    # Synonym Accuracy\n",
    "    synonym_correct = sum(\n",
    "        pred == label or is_synonym(pred, label)\n",
    "        for pred, label in zip(pred_texts, label_texts)\n",
    "    )\n",
    "    synonym_acc = synonym_correct / len(pred_texts)\n",
    "\n",
    "    # BERTScore\n",
    "    use_bert_score = True\n",
    "    bert_precision = bert_recall = bert_f1 = 0.0\n",
    "    if use_bert_score:\n",
    "        P, R, F1 = bert_score_fn(pred_texts, label_texts, lang='en', verbose=True)\n",
    "        bert_precision = P.mean().item()\n",
    "        bert_recall = R.mean().item()\n",
    "        bert_f1 = F1.mean().item()\n",
    "\n",
    "    print(f\"Accuracy: {acc:.4f}\")\n",
    "    print(f\"F1 Score (macro): {f1:.4f}\")\n",
    "    print(f\"Synonym Accuracy: {synonym_acc:.4f}\")\n",
    "    if use_bert_score:\n",
    "        print(f\"BERT Precision: {bert_precision:.4f}, Recall: {bert_recall:.4f}, F1: {bert_f1:.4f}\")\n",
    "\n",
    "    return {\n",
    "        \"accuracy\": acc,\n",
    "        \"f1\": f1,\n",
    "        \"synonym_accuracy\": synonym_acc,\n",
    "        \"bert_precision\": bert_precision,\n",
    "        \"bert_recall\": bert_recall,\n",
    "        \"bert_f1\": bert_f1,\n",
    "    }\n",
    "\n",
    "trainer = Trainer(\n",
    "    model=model,\n",
    "    args=training_args,\n",
    "    train_dataset=train_dataset,\n",
    "    eval_dataset=val_dataset,  # val dataset for evaluation during training\n",
    "    tokenizer=processor,\n",
    "    compute_metrics=compute_metrics\n",
    ")"
   ]
  },
  {
   "cell_type": "code",
   "execution_count": 71,
   "metadata": {
    "execution": {
     "iopub.execute_input": "2025-05-16T03:59:26.907989Z",
     "iopub.status.busy": "2025-05-16T03:59:26.907726Z",
     "iopub.status.idle": "2025-05-16T03:59:26.929079Z",
     "shell.execute_reply": "2025-05-16T03:59:26.928398Z",
     "shell.execute_reply.started": "2025-05-16T03:59:26.907961Z"
    }
   },
   "outputs": [
    {
     "name": "stdout",
     "output_type": "stream",
     "text": [
      "dict_keys(['input_ids', 'token_type_ids', 'attention_mask', 'pixel_values', 'pixel_mask', 'labels'])\n"
     ]
    }
   ],
   "source": [
    "sample = train_dataset[0]\n",
    "print(sample.keys())"
   ]
  },
  {
   "cell_type": "code",
   "execution_count": null,
   "metadata": {},
   "outputs": [],
   "source": []
  },
  {
   "cell_type": "code",
   "execution_count": 72,
   "metadata": {
    "execution": {
     "iopub.execute_input": "2025-05-16T03:59:26.930130Z",
     "iopub.status.busy": "2025-05-16T03:59:26.929879Z",
     "iopub.status.idle": "2025-05-16T09:18:48.599866Z",
     "shell.execute_reply": "2025-05-16T09:18:48.599070Z",
     "shell.execute_reply.started": "2025-05-16T03:59:26.930106Z"
    }
   },
   "outputs": [
    {
     "data": {
      "text/html": [
       "\n",
       "    <div>\n",
       "      \n",
       "      <progress value='72170' max='72170' style='width:300px; height:20px; vertical-align: middle;'></progress>\n",
       "      [72170/72170 5:19:20, Epoch 10/10]\n",
       "    </div>\n",
       "    <table border=\"1\" class=\"dataframe\">\n",
       "  <thead>\n",
       " <tr style=\"text-align: left;\">\n",
       "      <th>Epoch</th>\n",
       "      <th>Training Loss</th>\n",
       "      <th>Validation Loss</th>\n",
       "      <th>Accuracy</th>\n",
       "      <th>F1</th>\n",
       "      <th>Synonym Accuracy</th>\n",
       "      <th>Bert Precision</th>\n",
       "      <th>Bert Recall</th>\n",
       "      <th>Bert F1</th>\n",
       "    </tr>\n",
       "  </thead>\n",
       "  <tbody>\n",
       "    <tr>\n",
       "      <td>1</td>\n",
       "      <td>3.367900</td>\n",
       "      <td>3.134512</td>\n",
       "      <td>0.354608</td>\n",
       "      <td>0.012380</td>\n",
       "      <td>0.364865</td>\n",
       "      <td>0.989793</td>\n",
       "      <td>0.983222</td>\n",
       "      <td>0.986271</td>\n",
       "    </tr>\n",
       "    <tr>\n",
       "      <td>2</td>\n",
       "      <td>2.562500</td>\n",
       "      <td>2.699766</td>\n",
       "      <td>0.435204</td>\n",
       "      <td>0.023263</td>\n",
       "      <td>0.445045</td>\n",
       "      <td>0.989205</td>\n",
       "      <td>0.983988</td>\n",
       "      <td>0.986363</td>\n",
       "    </tr>\n",
       "    <tr>\n",
       "      <td>3</td>\n",
       "      <td>3.001500</td>\n",
       "      <td>2.467088</td>\n",
       "      <td>0.468884</td>\n",
       "      <td>0.035846</td>\n",
       "      <td>0.479764</td>\n",
       "      <td>0.989041</td>\n",
       "      <td>0.984761</td>\n",
       "      <td>0.986665</td>\n",
       "    </tr>\n",
       "    <tr>\n",
       "      <td>4</td>\n",
       "      <td>2.110300</td>\n",
       "      <td>2.321940</td>\n",
       "      <td>0.496535</td>\n",
       "      <td>0.051445</td>\n",
       "      <td>0.507831</td>\n",
       "      <td>0.989612</td>\n",
       "      <td>0.985919</td>\n",
       "      <td>0.987550</td>\n",
       "    </tr>\n",
       "    <tr>\n",
       "      <td>5</td>\n",
       "      <td>2.379400</td>\n",
       "      <td>2.231707</td>\n",
       "      <td>0.516355</td>\n",
       "      <td>0.059584</td>\n",
       "      <td>0.528898</td>\n",
       "      <td>0.989534</td>\n",
       "      <td>0.986247</td>\n",
       "      <td>0.987677</td>\n",
       "    </tr>\n",
       "    <tr>\n",
       "      <td>6</td>\n",
       "      <td>1.927200</td>\n",
       "      <td>2.175604</td>\n",
       "      <td>0.518087</td>\n",
       "      <td>0.065746</td>\n",
       "      <td>0.530977</td>\n",
       "      <td>0.989184</td>\n",
       "      <td>0.986317</td>\n",
       "      <td>0.987539</td>\n",
       "    </tr>\n",
       "    <tr>\n",
       "      <td>7</td>\n",
       "      <td>1.958800</td>\n",
       "      <td>2.133673</td>\n",
       "      <td>0.531809</td>\n",
       "      <td>0.073568</td>\n",
       "      <td>0.544421</td>\n",
       "      <td>0.990032</td>\n",
       "      <td>0.986836</td>\n",
       "      <td>0.988236</td>\n",
       "    </tr>\n",
       "    <tr>\n",
       "      <td>8</td>\n",
       "      <td>1.511700</td>\n",
       "      <td>2.100969</td>\n",
       "      <td>0.540402</td>\n",
       "      <td>0.082354</td>\n",
       "      <td>0.553361</td>\n",
       "      <td>0.989456</td>\n",
       "      <td>0.986915</td>\n",
       "      <td>0.987978</td>\n",
       "    </tr>\n",
       "    <tr>\n",
       "      <td>9</td>\n",
       "      <td>1.739100</td>\n",
       "      <td>2.082793</td>\n",
       "      <td>0.543590</td>\n",
       "      <td>0.085136</td>\n",
       "      <td>0.557519</td>\n",
       "      <td>0.989819</td>\n",
       "      <td>0.987094</td>\n",
       "      <td>0.988257</td>\n",
       "    </tr>\n",
       "    <tr>\n",
       "      <td>10</td>\n",
       "      <td>1.997200</td>\n",
       "      <td>2.074575</td>\n",
       "      <td>0.544629</td>\n",
       "      <td>0.084120</td>\n",
       "      <td>0.557866</td>\n",
       "      <td>0.989838</td>\n",
       "      <td>0.987078</td>\n",
       "      <td>0.988257</td>\n",
       "    </tr>\n",
       "  </tbody>\n",
       "</table><p>"
      ],
      "text/plain": [
       "<IPython.core.display.HTML object>"
      ]
     },
     "metadata": {},
     "output_type": "display_data"
    },
    {
     "name": "stderr",
     "output_type": "stream",
     "text": [
      "Some weights of RobertaModel were not initialized from the model checkpoint at roberta-large and are newly initialized: ['pooler.dense.bias', 'pooler.dense.weight']\n",
      "You should probably TRAIN this model on a down-stream task to be able to use it for predictions and inference.\n"
     ]
    },
    {
     "name": "stdout",
     "output_type": "stream",
     "text": [
      "calculating scores...\n",
      "computing bert embedding.\n"
     ]
    },
    {
     "data": {
      "application/vnd.jupyter.widget-view+json": {
       "model_id": "64853f701d7845959e371586e0d46505",
       "version_major": 2,
       "version_minor": 0
      },
      "text/plain": [
       "  0%|          | 0/17 [00:00<?, ?it/s]"
      ]
     },
     "metadata": {},
     "output_type": "display_data"
    },
    {
     "name": "stdout",
     "output_type": "stream",
     "text": [
      "computing greedy matching.\n"
     ]
    },
    {
     "data": {
      "application/vnd.jupyter.widget-view+json": {
       "model_id": "c74dc68732554a3fa85262205f412927",
       "version_major": 2,
       "version_minor": 0
      },
      "text/plain": [
       "  0%|          | 0/226 [00:00<?, ?it/s]"
      ]
     },
     "metadata": {},
     "output_type": "display_data"
    },
    {
     "name": "stdout",
     "output_type": "stream",
     "text": [
      "done in 2.65 seconds, 5440.83 sentences/sec\n",
      "Accuracy: 0.3546\n",
      "F1 Score (macro): 0.0124\n",
      "Synonym Accuracy: 0.3649\n",
      "BERT Precision: 0.9898, Recall: 0.9832, F1: 0.9863\n"
     ]
    },
    {
     "name": "stderr",
     "output_type": "stream",
     "text": [
      "/usr/local/lib/python3.11/dist-packages/peft/utils/save_and_load.py:246: UserWarning: Could not find a config file in  - will assume that the vocabulary was not modified.\n",
      "  warnings.warn(\n",
      "Some weights of RobertaModel were not initialized from the model checkpoint at roberta-large and are newly initialized: ['pooler.dense.bias', 'pooler.dense.weight']\n",
      "You should probably TRAIN this model on a down-stream task to be able to use it for predictions and inference.\n"
     ]
    },
    {
     "name": "stdout",
     "output_type": "stream",
     "text": [
      "calculating scores...\n",
      "computing bert embedding.\n"
     ]
    },
    {
     "data": {
      "application/vnd.jupyter.widget-view+json": {
       "model_id": "8f219684f78547619831e1fb46a2e7c6",
       "version_major": 2,
       "version_minor": 0
      },
      "text/plain": [
       "  0%|          | 0/17 [00:00<?, ?it/s]"
      ]
     },
     "metadata": {},
     "output_type": "display_data"
    },
    {
     "name": "stdout",
     "output_type": "stream",
     "text": [
      "computing greedy matching.\n"
     ]
    },
    {
     "data": {
      "application/vnd.jupyter.widget-view+json": {
       "model_id": "980249da3ca240468da6c322197f01ce",
       "version_major": 2,
       "version_minor": 0
      },
      "text/plain": [
       "  0%|          | 0/226 [00:00<?, ?it/s]"
      ]
     },
     "metadata": {},
     "output_type": "display_data"
    },
    {
     "name": "stdout",
     "output_type": "stream",
     "text": [
      "done in 2.68 seconds, 5378.63 sentences/sec\n",
      "Accuracy: 0.4352\n",
      "F1 Score (macro): 0.0233\n",
      "Synonym Accuracy: 0.4450\n",
      "BERT Precision: 0.9892, Recall: 0.9840, F1: 0.9864\n"
     ]
    },
    {
     "name": "stderr",
     "output_type": "stream",
     "text": [
      "/usr/local/lib/python3.11/dist-packages/peft/utils/save_and_load.py:246: UserWarning: Could not find a config file in  - will assume that the vocabulary was not modified.\n",
      "  warnings.warn(\n",
      "Some weights of RobertaModel were not initialized from the model checkpoint at roberta-large and are newly initialized: ['pooler.dense.bias', 'pooler.dense.weight']\n",
      "You should probably TRAIN this model on a down-stream task to be able to use it for predictions and inference.\n"
     ]
    },
    {
     "name": "stdout",
     "output_type": "stream",
     "text": [
      "calculating scores...\n",
      "computing bert embedding.\n"
     ]
    },
    {
     "data": {
      "application/vnd.jupyter.widget-view+json": {
       "model_id": "272c6d65d84842649e36fd5f5e61ff5b",
       "version_major": 2,
       "version_minor": 0
      },
      "text/plain": [
       "  0%|          | 0/17 [00:00<?, ?it/s]"
      ]
     },
     "metadata": {},
     "output_type": "display_data"
    },
    {
     "name": "stdout",
     "output_type": "stream",
     "text": [
      "computing greedy matching.\n"
     ]
    },
    {
     "data": {
      "application/vnd.jupyter.widget-view+json": {
       "model_id": "a92e53c6e31746d089cfe7eda0e8997f",
       "version_major": 2,
       "version_minor": 0
      },
      "text/plain": [
       "  0%|          | 0/226 [00:00<?, ?it/s]"
      ]
     },
     "metadata": {},
     "output_type": "display_data"
    },
    {
     "name": "stdout",
     "output_type": "stream",
     "text": [
      "done in 2.68 seconds, 5378.89 sentences/sec\n",
      "Accuracy: 0.4689\n",
      "F1 Score (macro): 0.0358\n",
      "Synonym Accuracy: 0.4798\n",
      "BERT Precision: 0.9890, Recall: 0.9848, F1: 0.9867\n"
     ]
    },
    {
     "name": "stderr",
     "output_type": "stream",
     "text": [
      "/usr/local/lib/python3.11/dist-packages/peft/utils/save_and_load.py:246: UserWarning: Could not find a config file in  - will assume that the vocabulary was not modified.\n",
      "  warnings.warn(\n",
      "Some weights of RobertaModel were not initialized from the model checkpoint at roberta-large and are newly initialized: ['pooler.dense.bias', 'pooler.dense.weight']\n",
      "You should probably TRAIN this model on a down-stream task to be able to use it for predictions and inference.\n"
     ]
    },
    {
     "name": "stdout",
     "output_type": "stream",
     "text": [
      "calculating scores...\n",
      "computing bert embedding.\n"
     ]
    },
    {
     "data": {
      "application/vnd.jupyter.widget-view+json": {
       "model_id": "de5f513abb264504acad02231f942c2e",
       "version_major": 2,
       "version_minor": 0
      },
      "text/plain": [
       "  0%|          | 0/17 [00:00<?, ?it/s]"
      ]
     },
     "metadata": {},
     "output_type": "display_data"
    },
    {
     "name": "stdout",
     "output_type": "stream",
     "text": [
      "computing greedy matching.\n"
     ]
    },
    {
     "data": {
      "application/vnd.jupyter.widget-view+json": {
       "model_id": "e9b6658cc45e4141b8aa7aa1d4cadb14",
       "version_major": 2,
       "version_minor": 0
      },
      "text/plain": [
       "  0%|          | 0/226 [00:00<?, ?it/s]"
      ]
     },
     "metadata": {},
     "output_type": "display_data"
    },
    {
     "name": "stdout",
     "output_type": "stream",
     "text": [
      "done in 2.69 seconds, 5370.81 sentences/sec\n",
      "Accuracy: 0.4965\n",
      "F1 Score (macro): 0.0514\n",
      "Synonym Accuracy: 0.5078\n",
      "BERT Precision: 0.9896, Recall: 0.9859, F1: 0.9875\n"
     ]
    },
    {
     "name": "stderr",
     "output_type": "stream",
     "text": [
      "/usr/local/lib/python3.11/dist-packages/peft/utils/save_and_load.py:246: UserWarning: Could not find a config file in  - will assume that the vocabulary was not modified.\n",
      "  warnings.warn(\n",
      "Some weights of RobertaModel were not initialized from the model checkpoint at roberta-large and are newly initialized: ['pooler.dense.bias', 'pooler.dense.weight']\n",
      "You should probably TRAIN this model on a down-stream task to be able to use it for predictions and inference.\n"
     ]
    },
    {
     "name": "stdout",
     "output_type": "stream",
     "text": [
      "calculating scores...\n",
      "computing bert embedding.\n"
     ]
    },
    {
     "data": {
      "application/vnd.jupyter.widget-view+json": {
       "model_id": "8e070a9ecfcd4299b5d456c14da83127",
       "version_major": 2,
       "version_minor": 0
      },
      "text/plain": [
       "  0%|          | 0/17 [00:00<?, ?it/s]"
      ]
     },
     "metadata": {},
     "output_type": "display_data"
    },
    {
     "name": "stdout",
     "output_type": "stream",
     "text": [
      "computing greedy matching.\n"
     ]
    },
    {
     "data": {
      "application/vnd.jupyter.widget-view+json": {
       "model_id": "bba842221e9544c7a9a4f1050d31c727",
       "version_major": 2,
       "version_minor": 0
      },
      "text/plain": [
       "  0%|          | 0/226 [00:00<?, ?it/s]"
      ]
     },
     "metadata": {},
     "output_type": "display_data"
    },
    {
     "name": "stdout",
     "output_type": "stream",
     "text": [
      "done in 2.66 seconds, 5416.78 sentences/sec\n",
      "Accuracy: 0.5164\n",
      "F1 Score (macro): 0.0596\n",
      "Synonym Accuracy: 0.5289\n",
      "BERT Precision: 0.9895, Recall: 0.9862, F1: 0.9877\n"
     ]
    },
    {
     "name": "stderr",
     "output_type": "stream",
     "text": [
      "/usr/local/lib/python3.11/dist-packages/peft/utils/save_and_load.py:246: UserWarning: Could not find a config file in  - will assume that the vocabulary was not modified.\n",
      "  warnings.warn(\n",
      "Some weights of RobertaModel were not initialized from the model checkpoint at roberta-large and are newly initialized: ['pooler.dense.bias', 'pooler.dense.weight']\n",
      "You should probably TRAIN this model on a down-stream task to be able to use it for predictions and inference.\n"
     ]
    },
    {
     "name": "stdout",
     "output_type": "stream",
     "text": [
      "calculating scores...\n",
      "computing bert embedding.\n"
     ]
    },
    {
     "data": {
      "application/vnd.jupyter.widget-view+json": {
       "model_id": "a53d0bc62f514faca4f74dd04f840360",
       "version_major": 2,
       "version_minor": 0
      },
      "text/plain": [
       "  0%|          | 0/17 [00:00<?, ?it/s]"
      ]
     },
     "metadata": {},
     "output_type": "display_data"
    },
    {
     "name": "stdout",
     "output_type": "stream",
     "text": [
      "computing greedy matching.\n"
     ]
    },
    {
     "data": {
      "application/vnd.jupyter.widget-view+json": {
       "model_id": "a339c82f5bc8424f98ac811901e43913",
       "version_major": 2,
       "version_minor": 0
      },
      "text/plain": [
       "  0%|          | 0/226 [00:00<?, ?it/s]"
      ]
     },
     "metadata": {},
     "output_type": "display_data"
    },
    {
     "name": "stdout",
     "output_type": "stream",
     "text": [
      "done in 2.71 seconds, 5322.58 sentences/sec\n",
      "Accuracy: 0.5181\n",
      "F1 Score (macro): 0.0657\n",
      "Synonym Accuracy: 0.5310\n",
      "BERT Precision: 0.9892, Recall: 0.9863, F1: 0.9875\n"
     ]
    },
    {
     "name": "stderr",
     "output_type": "stream",
     "text": [
      "/usr/local/lib/python3.11/dist-packages/peft/utils/save_and_load.py:246: UserWarning: Could not find a config file in  - will assume that the vocabulary was not modified.\n",
      "  warnings.warn(\n",
      "Some weights of RobertaModel were not initialized from the model checkpoint at roberta-large and are newly initialized: ['pooler.dense.bias', 'pooler.dense.weight']\n",
      "You should probably TRAIN this model on a down-stream task to be able to use it for predictions and inference.\n"
     ]
    },
    {
     "name": "stdout",
     "output_type": "stream",
     "text": [
      "calculating scores...\n",
      "computing bert embedding.\n"
     ]
    },
    {
     "data": {
      "application/vnd.jupyter.widget-view+json": {
       "model_id": "4083b248a78449c9955c575fc6b0c884",
       "version_major": 2,
       "version_minor": 0
      },
      "text/plain": [
       "  0%|          | 0/17 [00:00<?, ?it/s]"
      ]
     },
     "metadata": {},
     "output_type": "display_data"
    },
    {
     "name": "stdout",
     "output_type": "stream",
     "text": [
      "computing greedy matching.\n"
     ]
    },
    {
     "data": {
      "application/vnd.jupyter.widget-view+json": {
       "model_id": "2518e9106b3a4481bcb494173d891bea",
       "version_major": 2,
       "version_minor": 0
      },
      "text/plain": [
       "  0%|          | 0/226 [00:00<?, ?it/s]"
      ]
     },
     "metadata": {},
     "output_type": "display_data"
    },
    {
     "name": "stdout",
     "output_type": "stream",
     "text": [
      "done in 2.66 seconds, 5421.01 sentences/sec\n",
      "Accuracy: 0.5318\n",
      "F1 Score (macro): 0.0736\n",
      "Synonym Accuracy: 0.5444\n",
      "BERT Precision: 0.9900, Recall: 0.9868, F1: 0.9882\n"
     ]
    },
    {
     "name": "stderr",
     "output_type": "stream",
     "text": [
      "/usr/local/lib/python3.11/dist-packages/peft/utils/save_and_load.py:246: UserWarning: Could not find a config file in  - will assume that the vocabulary was not modified.\n",
      "  warnings.warn(\n",
      "Some weights of RobertaModel were not initialized from the model checkpoint at roberta-large and are newly initialized: ['pooler.dense.bias', 'pooler.dense.weight']\n",
      "You should probably TRAIN this model on a down-stream task to be able to use it for predictions and inference.\n"
     ]
    },
    {
     "name": "stdout",
     "output_type": "stream",
     "text": [
      "calculating scores...\n",
      "computing bert embedding.\n"
     ]
    },
    {
     "data": {
      "application/vnd.jupyter.widget-view+json": {
       "model_id": "5120386466a34df5a340e213d8678357",
       "version_major": 2,
       "version_minor": 0
      },
      "text/plain": [
       "  0%|          | 0/17 [00:00<?, ?it/s]"
      ]
     },
     "metadata": {},
     "output_type": "display_data"
    },
    {
     "name": "stdout",
     "output_type": "stream",
     "text": [
      "computing greedy matching.\n"
     ]
    },
    {
     "data": {
      "application/vnd.jupyter.widget-view+json": {
       "model_id": "88742362dd184e33aa70b69faff9d8f6",
       "version_major": 2,
       "version_minor": 0
      },
      "text/plain": [
       "  0%|          | 0/226 [00:00<?, ?it/s]"
      ]
     },
     "metadata": {},
     "output_type": "display_data"
    },
    {
     "name": "stdout",
     "output_type": "stream",
     "text": [
      "done in 2.69 seconds, 5373.24 sentences/sec\n",
      "Accuracy: 0.5404\n",
      "F1 Score (macro): 0.0824\n",
      "Synonym Accuracy: 0.5534\n",
      "BERT Precision: 0.9895, Recall: 0.9869, F1: 0.9880\n"
     ]
    },
    {
     "name": "stderr",
     "output_type": "stream",
     "text": [
      "/usr/local/lib/python3.11/dist-packages/peft/utils/save_and_load.py:246: UserWarning: Could not find a config file in  - will assume that the vocabulary was not modified.\n",
      "  warnings.warn(\n",
      "Some weights of RobertaModel were not initialized from the model checkpoint at roberta-large and are newly initialized: ['pooler.dense.bias', 'pooler.dense.weight']\n",
      "You should probably TRAIN this model on a down-stream task to be able to use it for predictions and inference.\n"
     ]
    },
    {
     "name": "stdout",
     "output_type": "stream",
     "text": [
      "calculating scores...\n",
      "computing bert embedding.\n"
     ]
    },
    {
     "data": {
      "application/vnd.jupyter.widget-view+json": {
       "model_id": "73953ab352fd4e70baa99b6c33c5c0b6",
       "version_major": 2,
       "version_minor": 0
      },
      "text/plain": [
       "  0%|          | 0/17 [00:00<?, ?it/s]"
      ]
     },
     "metadata": {},
     "output_type": "display_data"
    },
    {
     "name": "stdout",
     "output_type": "stream",
     "text": [
      "computing greedy matching.\n"
     ]
    },
    {
     "data": {
      "application/vnd.jupyter.widget-view+json": {
       "model_id": "401d09bfc35d42b1b98f953d545d40bb",
       "version_major": 2,
       "version_minor": 0
      },
      "text/plain": [
       "  0%|          | 0/226 [00:00<?, ?it/s]"
      ]
     },
     "metadata": {},
     "output_type": "display_data"
    },
    {
     "name": "stdout",
     "output_type": "stream",
     "text": [
      "done in 2.65 seconds, 5447.76 sentences/sec\n",
      "Accuracy: 0.5436\n",
      "F1 Score (macro): 0.0851\n",
      "Synonym Accuracy: 0.5575\n",
      "BERT Precision: 0.9898, Recall: 0.9871, F1: 0.9883\n"
     ]
    },
    {
     "name": "stderr",
     "output_type": "stream",
     "text": [
      "/usr/local/lib/python3.11/dist-packages/peft/utils/save_and_load.py:246: UserWarning: Could not find a config file in  - will assume that the vocabulary was not modified.\n",
      "  warnings.warn(\n",
      "Some weights of RobertaModel were not initialized from the model checkpoint at roberta-large and are newly initialized: ['pooler.dense.bias', 'pooler.dense.weight']\n",
      "You should probably TRAIN this model on a down-stream task to be able to use it for predictions and inference.\n"
     ]
    },
    {
     "name": "stdout",
     "output_type": "stream",
     "text": [
      "calculating scores...\n",
      "computing bert embedding.\n"
     ]
    },
    {
     "data": {
      "application/vnd.jupyter.widget-view+json": {
       "model_id": "91cc15b6a0b346f0b0bdf0820003a3b3",
       "version_major": 2,
       "version_minor": 0
      },
      "text/plain": [
       "  0%|          | 0/17 [00:00<?, ?it/s]"
      ]
     },
     "metadata": {},
     "output_type": "display_data"
    },
    {
     "name": "stdout",
     "output_type": "stream",
     "text": [
      "computing greedy matching.\n"
     ]
    },
    {
     "data": {
      "application/vnd.jupyter.widget-view+json": {
       "model_id": "d2e7ef46fc484b6192ca739ee7a7c06b",
       "version_major": 2,
       "version_minor": 0
      },
      "text/plain": [
       "  0%|          | 0/226 [00:00<?, ?it/s]"
      ]
     },
     "metadata": {},
     "output_type": "display_data"
    },
    {
     "name": "stdout",
     "output_type": "stream",
     "text": [
      "done in 2.65 seconds, 5440.85 sentences/sec\n",
      "Accuracy: 0.5446\n",
      "F1 Score (macro): 0.0841\n",
      "Synonym Accuracy: 0.5579\n",
      "BERT Precision: 0.9898, Recall: 0.9871, F1: 0.9883\n"
     ]
    },
    {
     "name": "stderr",
     "output_type": "stream",
     "text": [
      "/usr/local/lib/python3.11/dist-packages/peft/utils/save_and_load.py:246: UserWarning: Could not find a config file in  - will assume that the vocabulary was not modified.\n",
      "  warnings.warn(\n"
     ]
    },
    {
     "data": {
      "text/plain": [
       "TrainOutput(global_step=72170, training_loss=2.2781769370081286, metrics={'train_runtime': 19160.7216, 'train_samples_per_second': 30.132, 'train_steps_per_second': 3.767, 'total_flos': 1.27974348356736e+16, 'train_loss': 2.2781769370081286, 'epoch': 10.0})"
      ]
     },
     "execution_count": 72,
     "metadata": {},
     "output_type": "execute_result"
    }
   ],
   "source": [
    "# Train\n",
    "trainer.train()"
   ]
  },
  {
   "cell_type": "code",
   "execution_count": 77,
   "metadata": {
    "execution": {
     "iopub.execute_input": "2025-05-16T09:19:34.363496Z",
     "iopub.status.busy": "2025-05-16T09:19:34.363302Z",
     "iopub.status.idle": "2025-05-16T09:19:34.448473Z",
     "shell.execute_reply": "2025-05-16T09:19:34.447709Z",
     "shell.execute_reply.started": "2025-05-16T09:19:34.363480Z"
    }
   },
   "outputs": [
    {
     "name": "stdout",
     "output_type": "stream",
     "text": [
      "Model saved to './finee_tuned_VILT_vqa_lora'\n"
     ]
    }
   ],
   "source": [
    "trainer.save_model(\"./finee_tuned_final-VILT-_vqa_lora\")\n",
    "print(\"Model saved to './finee_tuned_VILT_vqa_lora'\")"
   ]
  },
  {
   "cell_type": "code",
   "execution_count": 78,
   "metadata": {
    "execution": {
     "iopub.execute_input": "2025-05-16T09:19:34.449572Z",
     "iopub.status.busy": "2025-05-16T09:19:34.449282Z",
     "iopub.status.idle": "2025-05-16T09:19:57.128343Z",
     "shell.execute_reply": "2025-05-16T09:19:57.127780Z",
     "shell.execute_reply.started": "2025-05-16T09:19:34.449552Z"
    }
   },
   "outputs": [
    {
     "name": "stdout",
     "output_type": "stream",
     "text": [
      "updating: results/ (stored 0%)\n",
      "updating: results/checkpoint-72170/ (stored 0%)\n",
      "updating: results/checkpoint-72170/training_args.bin (deflated 52%)\n",
      "updating: results/checkpoint-72170/scaler.pt (deflated 60%)\n",
      "updating: results/checkpoint-72170/tokenizer_config.json (deflated 75%)\n",
      "updating: results/checkpoint-72170/preprocessor_config.json (deflated 51%)\n",
      "updating: results/checkpoint-72170/rng_state.pth (deflated 25%)\n",
      "updating: results/checkpoint-72170/README.md (deflated 66%)\n",
      "updating: results/checkpoint-72170/tokenizer.json (deflated 71%)\n",
      "updating: results/checkpoint-72170/adapter_model.safetensors (deflated 7%)\n",
      "updating: results/checkpoint-72170/special_tokens_map.json (deflated 80%)\n",
      "updating: results/checkpoint-72170/scheduler.pt (deflated 55%)\n",
      "updating: results/checkpoint-72170/adapter_config.json (deflated 54%)\n",
      "updating: results/checkpoint-72170/vocab.txt (deflated 53%)\n",
      "updating: results/checkpoint-72170/optimizer.pt (deflated 7%)\n",
      "updating: results/checkpoint-72170/trainer_state.json (deflated 80%)\n",
      "updating: results/checkpoint-36085/ (stored 0%)\n",
      "updating: results/checkpoint-36085/training_args.bin (deflated 52%)\n",
      "updating: results/checkpoint-36085/scaler.pt (deflated 60%)\n",
      "updating: results/checkpoint-36085/tokenizer_config.json (deflated 75%)\n",
      "updating: results/checkpoint-36085/preprocessor_config.json (deflated 51%)\n",
      "updating: results/checkpoint-36085/rng_state.pth (deflated 25%)\n",
      "updating: results/checkpoint-36085/README.md (deflated 66%)\n",
      "updating: results/checkpoint-36085/tokenizer.json (deflated 71%)\n",
      "updating: results/checkpoint-36085/adapter_model.safetensors (deflated 7%)\n",
      "updating: results/checkpoint-36085/special_tokens_map.json (deflated 80%)\n",
      "updating: results/checkpoint-36085/scheduler.pt (deflated 55%)\n",
      "updating: results/checkpoint-36085/adapter_config.json (deflated 54%)\n",
      "updating: results/checkpoint-36085/vocab.txt (deflated 53%)\n",
      "updating: results/checkpoint-36085/optimizer.pt (deflated 7%)\n",
      "updating: results/checkpoint-36085/trainer_state.json (deflated 80%)\n",
      "updating: results/checkpoint-64953/ (stored 0%)\n",
      "updating: results/checkpoint-64953/training_args.bin (deflated 52%)\n",
      "updating: results/checkpoint-64953/scaler.pt (deflated 60%)\n",
      "updating: results/checkpoint-64953/tokenizer_config.json (deflated 75%)\n",
      "updating: results/checkpoint-64953/preprocessor_config.json (deflated 51%)\n",
      "updating: results/checkpoint-64953/rng_state.pth (deflated 25%)\n",
      "updating: results/checkpoint-64953/README.md (deflated 66%)\n",
      "updating: results/checkpoint-64953/tokenizer.json (deflated 71%)\n",
      "updating: results/checkpoint-64953/adapter_model.safetensors (deflated 7%)\n",
      "updating: results/checkpoint-64953/special_tokens_map.json (deflated 80%)\n",
      "updating: results/checkpoint-64953/scheduler.pt (deflated 55%)\n",
      "updating: results/checkpoint-64953/adapter_config.json (deflated 54%)\n",
      "updating: results/checkpoint-64953/vocab.txt (deflated 53%)\n",
      "updating: results/checkpoint-64953/optimizer.pt (deflated 7%)\n",
      "updating: results/checkpoint-64953/trainer_state.json (deflated 80%)\n",
      "updating: results/checkpoint-24000/ (stored 0%)\n",
      "updating: results/checkpoint-24000/training_args.bin (deflated 52%)\n",
      "updating: results/checkpoint-24000/scaler.pt (deflated 60%)\n",
      "updating: results/checkpoint-24000/tokenizer_config.json (deflated 75%)\n",
      "updating: results/checkpoint-24000/preprocessor_config.json (deflated 51%)\n",
      "updating: results/checkpoint-24000/rng_state.pth (deflated 25%)\n",
      "updating: results/checkpoint-24000/README.md (deflated 66%)\n",
      "updating: results/checkpoint-24000/tokenizer.json (deflated 71%)\n",
      "updating: results/checkpoint-24000/adapter_model.safetensors (deflated 7%)\n",
      "updating: results/checkpoint-24000/special_tokens_map.json (deflated 80%)\n",
      "updating: results/checkpoint-24000/scheduler.pt (deflated 55%)\n",
      "updating: results/checkpoint-24000/adapter_config.json (deflated 54%)\n",
      "updating: results/checkpoint-24000/vocab.txt (deflated 53%)\n",
      "updating: results/checkpoint-24000/optimizer.pt (deflated 7%)\n",
      "updating: results/checkpoint-24000/trainer_state.json (deflated 85%)\n",
      "updating: results/checkpoint-57736/ (stored 0%)\n",
      "updating: results/checkpoint-57736/training_args.bin (deflated 52%)\n",
      "updating: results/checkpoint-57736/scaler.pt (deflated 60%)\n",
      "updating: results/checkpoint-57736/tokenizer_config.json (deflated 75%)\n",
      "updating: results/checkpoint-57736/preprocessor_config.json (deflated 51%)\n",
      "updating: results/checkpoint-57736/rng_state.pth (deflated 25%)\n",
      "updating: results/checkpoint-57736/README.md (deflated 66%)\n",
      "updating: results/checkpoint-57736/tokenizer.json (deflated 71%)\n",
      "updating: results/checkpoint-57736/adapter_model.safetensors (deflated 7%)\n",
      "updating: results/checkpoint-57736/special_tokens_map.json (deflated 80%)\n",
      "updating: results/checkpoint-57736/scheduler.pt (deflated 55%)\n",
      "updating: results/checkpoint-57736/adapter_config.json (deflated 54%)\n",
      "updating: results/checkpoint-57736/vocab.txt (deflated 53%)\n",
      "updating: results/checkpoint-57736/optimizer.pt (deflated 7%)\n",
      "updating: results/checkpoint-57736/trainer_state.json (deflated 80%)\n",
      "updating: results/checkpoint-6000/ (stored 0%)\n",
      "updating: results/checkpoint-6000/training_args.bin (deflated 52%)\n",
      "updating: results/checkpoint-6000/scaler.pt (deflated 60%)\n",
      "updating: results/checkpoint-6000/tokenizer_config.json (deflated 75%)\n",
      "updating: results/checkpoint-6000/preprocessor_config.json (deflated 51%)\n",
      "updating: results/checkpoint-6000/rng_state.pth (deflated 25%)\n",
      "updating: results/checkpoint-6000/README.md (deflated 66%)\n",
      "updating: results/checkpoint-6000/tokenizer.json (deflated 71%)\n",
      "updating: results/checkpoint-6000/adapter_model.safetensors (deflated 7%)\n",
      "updating: results/checkpoint-6000/special_tokens_map.json (deflated 80%)\n",
      "updating: results/checkpoint-6000/scheduler.pt (deflated 56%)\n",
      "updating: results/checkpoint-6000/adapter_config.json (deflated 54%)\n",
      "updating: results/checkpoint-6000/vocab.txt (deflated 53%)\n",
      "updating: results/checkpoint-6000/optimizer.pt (deflated 7%)\n",
      "updating: results/checkpoint-6000/trainer_state.json (deflated 84%)\n",
      "updating: results/checkpoint-50519/ (stored 0%)\n",
      "updating: results/checkpoint-50519/training_args.bin (deflated 52%)\n",
      "updating: results/checkpoint-50519/scaler.pt (deflated 60%)\n",
      "updating: results/checkpoint-50519/tokenizer_config.json (deflated 75%)\n",
      "updating: results/checkpoint-50519/preprocessor_config.json (deflated 51%)\n",
      "updating: results/checkpoint-50519/rng_state.pth (deflated 25%)\n",
      "updating: results/checkpoint-50519/README.md (deflated 66%)\n",
      "updating: results/checkpoint-50519/tokenizer.json (deflated 71%)\n",
      "updating: results/checkpoint-50519/adapter_model.safetensors (deflated 7%)\n",
      "updating: results/checkpoint-50519/special_tokens_map.json (deflated 80%)\n",
      "updating: results/checkpoint-50519/scheduler.pt (deflated 56%)\n",
      "updating: results/checkpoint-50519/adapter_config.json (deflated 54%)\n",
      "updating: results/checkpoint-50519/vocab.txt (deflated 53%)\n",
      "updating: results/checkpoint-50519/optimizer.pt (deflated 7%)\n",
      "updating: results/checkpoint-50519/trainer_state.json (deflated 80%)\n",
      "updating: results/checkpoint-18000/ (stored 0%)\n",
      "updating: results/checkpoint-18000/training_args.bin (deflated 52%)\n",
      "updating: results/checkpoint-18000/scaler.pt (deflated 60%)\n",
      "updating: results/checkpoint-18000/tokenizer_config.json (deflated 75%)\n",
      "updating: results/checkpoint-18000/preprocessor_config.json (deflated 51%)\n",
      "updating: results/checkpoint-18000/rng_state.pth (deflated 25%)\n",
      "updating: results/checkpoint-18000/README.md (deflated 66%)\n",
      "updating: results/checkpoint-18000/tokenizer.json (deflated 71%)\n",
      "updating: results/checkpoint-18000/adapter_model.safetensors (deflated 7%)\n",
      "updating: results/checkpoint-18000/special_tokens_map.json (deflated 80%)\n",
      "updating: results/checkpoint-18000/scheduler.pt (deflated 55%)\n",
      "updating: results/checkpoint-18000/adapter_config.json (deflated 54%)\n",
      "updating: results/checkpoint-18000/vocab.txt (deflated 53%)\n",
      "updating: results/checkpoint-18000/optimizer.pt (deflated 7%)\n",
      "updating: results/checkpoint-18000/trainer_state.json (deflated 85%)\n",
      "updating: results/checkpoint-12000/ (stored 0%)\n",
      "updating: results/checkpoint-12000/training_args.bin (deflated 52%)\n",
      "updating: results/checkpoint-12000/scaler.pt (deflated 60%)\n",
      "updating: results/checkpoint-12000/tokenizer_config.json (deflated 75%)\n",
      "updating: results/checkpoint-12000/preprocessor_config.json (deflated 51%)\n",
      "updating: results/checkpoint-12000/rng_state.pth (deflated 25%)\n",
      "updating: results/checkpoint-12000/README.md (deflated 66%)\n",
      "updating: results/checkpoint-12000/tokenizer.json (deflated 71%)\n",
      "updating: results/checkpoint-12000/adapter_model.safetensors (deflated 7%)\n",
      "updating: results/checkpoint-12000/special_tokens_map.json (deflated 80%)\n",
      "updating: results/checkpoint-12000/scheduler.pt (deflated 55%)\n",
      "updating: results/checkpoint-12000/adapter_config.json (deflated 54%)\n",
      "updating: results/checkpoint-12000/vocab.txt (deflated 53%)\n",
      "updating: results/checkpoint-12000/optimizer.pt (deflated 7%)\n",
      "updating: results/checkpoint-12000/trainer_state.json (deflated 85%)\n",
      "updating: results/checkpoint-14434/ (stored 0%)\n",
      "updating: results/checkpoint-14434/training_args.bin (deflated 52%)\n",
      "updating: results/checkpoint-14434/scaler.pt (deflated 60%)\n",
      "updating: results/checkpoint-14434/tokenizer_config.json (deflated 75%)\n",
      "updating: results/checkpoint-14434/preprocessor_config.json (deflated 51%)\n",
      "updating: results/checkpoint-14434/rng_state.pth (deflated 25%)\n",
      "updating: results/checkpoint-14434/README.md (deflated 66%)\n",
      "updating: results/checkpoint-14434/tokenizer.json (deflated 71%)\n",
      "updating: results/checkpoint-14434/adapter_model.safetensors (deflated 7%)\n",
      "updating: results/checkpoint-14434/special_tokens_map.json (deflated 80%)\n",
      "updating: results/checkpoint-14434/scheduler.pt (deflated 55%)\n",
      "updating: results/checkpoint-14434/adapter_config.json (deflated 54%)\n",
      "updating: results/checkpoint-14434/vocab.txt (deflated 53%)\n",
      "updating: results/checkpoint-14434/optimizer.pt (deflated 7%)\n",
      "updating: results/checkpoint-14434/trainer_state.json (deflated 80%)\n",
      "updating: results/checkpoint-21651/ (stored 0%)\n",
      "updating: results/checkpoint-21651/training_args.bin (deflated 52%)\n",
      "updating: results/checkpoint-21651/scaler.pt (deflated 60%)\n",
      "updating: results/checkpoint-21651/tokenizer_config.json (deflated 75%)\n",
      "updating: results/checkpoint-21651/preprocessor_config.json (deflated 51%)\n",
      "updating: results/checkpoint-21651/rng_state.pth (deflated 25%)\n",
      "updating: results/checkpoint-21651/README.md (deflated 66%)\n",
      "updating: results/checkpoint-21651/tokenizer.json (deflated 71%)\n",
      "updating: results/checkpoint-21651/adapter_model.safetensors (deflated 7%)\n",
      "updating: results/checkpoint-21651/special_tokens_map.json (deflated 80%)\n",
      "updating: results/checkpoint-21651/scheduler.pt (deflated 55%)\n",
      "updating: results/checkpoint-21651/adapter_config.json (deflated 54%)\n",
      "updating: results/checkpoint-21651/vocab.txt (deflated 53%)\n",
      "updating: results/checkpoint-21651/optimizer.pt (deflated 7%)\n",
      "updating: results/checkpoint-21651/trainer_state.json (deflated 80%)\n",
      "updating: results/checkpoint-28868/ (stored 0%)\n",
      "updating: results/checkpoint-28868/training_args.bin (deflated 52%)\n",
      "updating: results/checkpoint-28868/scaler.pt (deflated 60%)\n",
      "updating: results/checkpoint-28868/tokenizer_config.json (deflated 75%)\n",
      "updating: results/checkpoint-28868/preprocessor_config.json (deflated 51%)\n",
      "updating: results/checkpoint-28868/rng_state.pth (deflated 25%)\n",
      "updating: results/checkpoint-28868/README.md (deflated 66%)\n",
      "updating: results/checkpoint-28868/tokenizer.json (deflated 71%)\n",
      "updating: results/checkpoint-28868/adapter_model.safetensors (deflated 7%)\n",
      "updating: results/checkpoint-28868/special_tokens_map.json (deflated 80%)\n",
      "updating: results/checkpoint-28868/scheduler.pt (deflated 56%)\n",
      "updating: results/checkpoint-28868/adapter_config.json (deflated 54%)\n",
      "updating: results/checkpoint-28868/vocab.txt (deflated 53%)\n",
      "updating: results/checkpoint-28868/optimizer.pt (deflated 7%)\n",
      "updating: results/checkpoint-28868/trainer_state.json (deflated 80%)\n",
      "updating: results/checkpoint-43302/ (stored 0%)\n",
      "updating: results/checkpoint-43302/training_args.bin (deflated 52%)\n",
      "updating: results/checkpoint-43302/scaler.pt (deflated 60%)\n",
      "updating: results/checkpoint-43302/tokenizer_config.json (deflated 75%)\n",
      "updating: results/checkpoint-43302/preprocessor_config.json (deflated 51%)\n",
      "updating: results/checkpoint-43302/rng_state.pth (deflated 25%)\n",
      "updating: results/checkpoint-43302/README.md (deflated 66%)\n",
      "updating: results/checkpoint-43302/tokenizer.json (deflated 71%)\n",
      "updating: results/checkpoint-43302/adapter_model.safetensors (deflated 7%)\n",
      "updating: results/checkpoint-43302/special_tokens_map.json (deflated 80%)\n",
      "updating: results/checkpoint-43302/scheduler.pt (deflated 55%)\n",
      "updating: results/checkpoint-43302/adapter_config.json (deflated 54%)\n",
      "updating: results/checkpoint-43302/vocab.txt (deflated 53%)\n",
      "updating: results/checkpoint-43302/optimizer.pt (deflated 7%)\n",
      "updating: results/checkpoint-43302/trainer_state.json (deflated 80%)\n",
      "updating: results/checkpoint-7217/ (stored 0%)\n",
      "updating: results/checkpoint-7217/training_args.bin (deflated 52%)\n",
      "updating: results/checkpoint-7217/scaler.pt (deflated 60%)\n",
      "updating: results/checkpoint-7217/tokenizer_config.json (deflated 75%)\n",
      "updating: results/checkpoint-7217/preprocessor_config.json (deflated 51%)\n",
      "updating: results/checkpoint-7217/rng_state.pth (deflated 25%)\n",
      "updating: results/checkpoint-7217/README.md (deflated 66%)\n",
      "updating: results/checkpoint-7217/tokenizer.json (deflated 71%)\n",
      "updating: results/checkpoint-7217/adapter_model.safetensors (deflated 7%)\n",
      "updating: results/checkpoint-7217/special_tokens_map.json (deflated 80%)\n",
      "updating: results/checkpoint-7217/scheduler.pt (deflated 55%)\n",
      "updating: results/checkpoint-7217/adapter_config.json (deflated 54%)\n",
      "updating: results/checkpoint-7217/vocab.txt (deflated 53%)\n",
      "updating: results/checkpoint-7217/optimizer.pt (deflated 7%)\n",
      "updating: results/checkpoint-7217/trainer_state.json (deflated 79%)\n"
     ]
    },
    {
     "data": {
      "text/plain": [
       "0"
      ]
     },
     "execution_count": 78,
     "metadata": {},
     "output_type": "execute_result"
    }
   ],
   "source": [
    "\n",
    "# Zip results \n",
    "os.system(\"zip -r viltt_final_model.zip ./results\")\n",
    "# Provide a clickable download link\n",
    "display(FileLink(\"viltt_final_model.zip\"))"
   ]
  },
  {
   "cell_type": "code",
   "execution_count": 79,
   "metadata": {
    "execution": {
     "iopub.execute_input": "2025-05-16T09:25:01.915094Z",
     "iopub.status.busy": "2025-05-16T09:25:01.914452Z",
     "iopub.status.idle": "2025-05-16T09:25:24.586568Z",
     "shell.execute_reply": "2025-05-16T09:25:24.585851Z",
     "shell.execute_reply.started": "2025-05-16T09:25:01.915070Z"
    }
   },
   "outputs": [
    {
     "name": "stdout",
     "output_type": "stream",
     "text": [
      "updating: results/ (stored 0%)\n",
      "updating: results/checkpoint-72170/ (stored 0%)\n",
      "updating: results/checkpoint-72170/training_args.bin (deflated 52%)\n",
      "updating: results/checkpoint-72170/scaler.pt (deflated 60%)\n",
      "updating: results/checkpoint-72170/tokenizer_config.json (deflated 75%)\n",
      "updating: results/checkpoint-72170/preprocessor_config.json (deflated 51%)\n",
      "updating: results/checkpoint-72170/rng_state.pth (deflated 25%)\n",
      "updating: results/checkpoint-72170/README.md (deflated 66%)\n",
      "updating: results/checkpoint-72170/tokenizer.json (deflated 71%)\n",
      "updating: results/checkpoint-72170/adapter_model.safetensors (deflated 7%)\n",
      "updating: results/checkpoint-72170/special_tokens_map.json (deflated 80%)\n",
      "updating: results/checkpoint-72170/scheduler.pt (deflated 55%)\n",
      "updating: results/checkpoint-72170/adapter_config.json (deflated 54%)\n",
      "updating: results/checkpoint-72170/vocab.txt (deflated 53%)\n",
      "updating: results/checkpoint-72170/optimizer.pt (deflated 7%)\n",
      "updating: results/checkpoint-72170/trainer_state.json (deflated 80%)\n",
      "updating: results/checkpoint-36085/ (stored 0%)\n",
      "updating: results/checkpoint-36085/training_args.bin (deflated 52%)\n",
      "updating: results/checkpoint-36085/scaler.pt (deflated 60%)\n",
      "updating: results/checkpoint-36085/tokenizer_config.json (deflated 75%)\n",
      "updating: results/checkpoint-36085/preprocessor_config.json (deflated 51%)\n",
      "updating: results/checkpoint-36085/rng_state.pth (deflated 25%)\n",
      "updating: results/checkpoint-36085/README.md (deflated 66%)\n",
      "updating: results/checkpoint-36085/tokenizer.json (deflated 71%)\n",
      "updating: results/checkpoint-36085/adapter_model.safetensors (deflated 7%)\n",
      "updating: results/checkpoint-36085/special_tokens_map.json (deflated 80%)\n",
      "updating: results/checkpoint-36085/scheduler.pt (deflated 55%)\n",
      "updating: results/checkpoint-36085/adapter_config.json (deflated 54%)\n",
      "updating: results/checkpoint-36085/vocab.txt (deflated 53%)\n",
      "updating: results/checkpoint-36085/optimizer.pt (deflated 7%)\n",
      "updating: results/checkpoint-36085/trainer_state.json (deflated 80%)\n",
      "updating: results/checkpoint-64953/ (stored 0%)\n",
      "updating: results/checkpoint-64953/training_args.bin (deflated 52%)\n",
      "updating: results/checkpoint-64953/scaler.pt (deflated 60%)\n",
      "updating: results/checkpoint-64953/tokenizer_config.json (deflated 75%)\n",
      "updating: results/checkpoint-64953/preprocessor_config.json (deflated 51%)\n",
      "updating: results/checkpoint-64953/rng_state.pth (deflated 25%)\n",
      "updating: results/checkpoint-64953/README.md (deflated 66%)\n",
      "updating: results/checkpoint-64953/tokenizer.json (deflated 71%)\n",
      "updating: results/checkpoint-64953/adapter_model.safetensors (deflated 7%)\n",
      "updating: results/checkpoint-64953/special_tokens_map.json (deflated 80%)\n",
      "updating: results/checkpoint-64953/scheduler.pt (deflated 55%)\n",
      "updating: results/checkpoint-64953/adapter_config.json (deflated 54%)\n",
      "updating: results/checkpoint-64953/vocab.txt (deflated 53%)\n",
      "updating: results/checkpoint-64953/optimizer.pt (deflated 7%)\n",
      "updating: results/checkpoint-64953/trainer_state.json (deflated 80%)\n",
      "updating: results/checkpoint-24000/ (stored 0%)\n",
      "updating: results/checkpoint-24000/training_args.bin (deflated 52%)\n",
      "updating: results/checkpoint-24000/scaler.pt (deflated 60%)\n",
      "updating: results/checkpoint-24000/tokenizer_config.json (deflated 75%)\n",
      "updating: results/checkpoint-24000/preprocessor_config.json (deflated 51%)\n",
      "updating: results/checkpoint-24000/rng_state.pth (deflated 25%)\n",
      "updating: results/checkpoint-24000/README.md (deflated 66%)\n",
      "updating: results/checkpoint-24000/tokenizer.json (deflated 71%)\n",
      "updating: results/checkpoint-24000/adapter_model.safetensors (deflated 7%)\n",
      "updating: results/checkpoint-24000/special_tokens_map.json (deflated 80%)\n",
      "updating: results/checkpoint-24000/scheduler.pt (deflated 55%)\n",
      "updating: results/checkpoint-24000/adapter_config.json (deflated 54%)\n",
      "updating: results/checkpoint-24000/vocab.txt (deflated 53%)\n",
      "updating: results/checkpoint-24000/optimizer.pt (deflated 7%)\n",
      "updating: results/checkpoint-24000/trainer_state.json (deflated 85%)\n",
      "updating: results/checkpoint-57736/ (stored 0%)\n",
      "updating: results/checkpoint-57736/training_args.bin (deflated 52%)\n",
      "updating: results/checkpoint-57736/scaler.pt (deflated 60%)\n",
      "updating: results/checkpoint-57736/tokenizer_config.json (deflated 75%)\n",
      "updating: results/checkpoint-57736/preprocessor_config.json (deflated 51%)\n",
      "updating: results/checkpoint-57736/rng_state.pth (deflated 25%)\n",
      "updating: results/checkpoint-57736/README.md (deflated 66%)\n",
      "updating: results/checkpoint-57736/tokenizer.json (deflated 71%)\n",
      "updating: results/checkpoint-57736/adapter_model.safetensors (deflated 7%)\n",
      "updating: results/checkpoint-57736/special_tokens_map.json (deflated 80%)\n",
      "updating: results/checkpoint-57736/scheduler.pt (deflated 55%)\n",
      "updating: results/checkpoint-57736/adapter_config.json (deflated 54%)\n",
      "updating: results/checkpoint-57736/vocab.txt (deflated 53%)\n",
      "updating: results/checkpoint-57736/optimizer.pt (deflated 7%)\n",
      "updating: results/checkpoint-57736/trainer_state.json (deflated 80%)\n",
      "updating: results/checkpoint-6000/ (stored 0%)\n",
      "updating: results/checkpoint-6000/training_args.bin (deflated 52%)\n",
      "updating: results/checkpoint-6000/scaler.pt (deflated 60%)\n",
      "updating: results/checkpoint-6000/tokenizer_config.json (deflated 75%)\n",
      "updating: results/checkpoint-6000/preprocessor_config.json (deflated 51%)\n",
      "updating: results/checkpoint-6000/rng_state.pth (deflated 25%)\n",
      "updating: results/checkpoint-6000/README.md (deflated 66%)\n",
      "updating: results/checkpoint-6000/tokenizer.json (deflated 71%)\n",
      "updating: results/checkpoint-6000/adapter_model.safetensors (deflated 7%)\n",
      "updating: results/checkpoint-6000/special_tokens_map.json (deflated 80%)\n",
      "updating: results/checkpoint-6000/scheduler.pt (deflated 56%)\n",
      "updating: results/checkpoint-6000/adapter_config.json (deflated 54%)\n",
      "updating: results/checkpoint-6000/vocab.txt (deflated 53%)\n",
      "updating: results/checkpoint-6000/optimizer.pt (deflated 7%)\n",
      "updating: results/checkpoint-6000/trainer_state.json (deflated 84%)\n",
      "updating: results/checkpoint-50519/ (stored 0%)\n",
      "updating: results/checkpoint-50519/training_args.bin (deflated 52%)\n",
      "updating: results/checkpoint-50519/scaler.pt (deflated 60%)\n",
      "updating: results/checkpoint-50519/tokenizer_config.json (deflated 75%)\n",
      "updating: results/checkpoint-50519/preprocessor_config.json (deflated 51%)\n",
      "updating: results/checkpoint-50519/rng_state.pth (deflated 25%)\n",
      "updating: results/checkpoint-50519/README.md (deflated 66%)\n",
      "updating: results/checkpoint-50519/tokenizer.json (deflated 71%)\n",
      "updating: results/checkpoint-50519/adapter_model.safetensors (deflated 7%)\n",
      "updating: results/checkpoint-50519/special_tokens_map.json (deflated 80%)\n",
      "updating: results/checkpoint-50519/scheduler.pt (deflated 56%)\n",
      "updating: results/checkpoint-50519/adapter_config.json (deflated 54%)\n",
      "updating: results/checkpoint-50519/vocab.txt (deflated 53%)\n",
      "updating: results/checkpoint-50519/optimizer.pt (deflated 7%)\n",
      "updating: results/checkpoint-50519/trainer_state.json (deflated 80%)\n",
      "updating: results/checkpoint-18000/ (stored 0%)\n",
      "updating: results/checkpoint-18000/training_args.bin (deflated 52%)\n",
      "updating: results/checkpoint-18000/scaler.pt (deflated 60%)\n",
      "updating: results/checkpoint-18000/tokenizer_config.json (deflated 75%)\n",
      "updating: results/checkpoint-18000/preprocessor_config.json (deflated 51%)\n",
      "updating: results/checkpoint-18000/rng_state.pth (deflated 25%)\n",
      "updating: results/checkpoint-18000/README.md (deflated 66%)\n",
      "updating: results/checkpoint-18000/tokenizer.json (deflated 71%)\n",
      "updating: results/checkpoint-18000/adapter_model.safetensors (deflated 7%)\n",
      "updating: results/checkpoint-18000/special_tokens_map.json (deflated 80%)\n",
      "updating: results/checkpoint-18000/scheduler.pt (deflated 55%)\n",
      "updating: results/checkpoint-18000/adapter_config.json (deflated 54%)\n",
      "updating: results/checkpoint-18000/vocab.txt (deflated 53%)\n",
      "updating: results/checkpoint-18000/optimizer.pt (deflated 7%)\n",
      "updating: results/checkpoint-18000/trainer_state.json (deflated 85%)\n",
      "updating: results/checkpoint-12000/ (stored 0%)\n",
      "updating: results/checkpoint-12000/training_args.bin (deflated 52%)\n",
      "updating: results/checkpoint-12000/scaler.pt (deflated 60%)\n",
      "updating: results/checkpoint-12000/tokenizer_config.json (deflated 75%)\n",
      "updating: results/checkpoint-12000/preprocessor_config.json (deflated 51%)\n",
      "updating: results/checkpoint-12000/rng_state.pth (deflated 25%)\n",
      "updating: results/checkpoint-12000/README.md (deflated 66%)\n",
      "updating: results/checkpoint-12000/tokenizer.json (deflated 71%)\n",
      "updating: results/checkpoint-12000/adapter_model.safetensors (deflated 7%)\n",
      "updating: results/checkpoint-12000/special_tokens_map.json (deflated 80%)\n",
      "updating: results/checkpoint-12000/scheduler.pt (deflated 55%)\n",
      "updating: results/checkpoint-12000/adapter_config.json (deflated 54%)\n",
      "updating: results/checkpoint-12000/vocab.txt (deflated 53%)\n",
      "updating: results/checkpoint-12000/optimizer.pt (deflated 7%)\n",
      "updating: results/checkpoint-12000/trainer_state.json (deflated 85%)\n",
      "updating: results/checkpoint-14434/ (stored 0%)\n",
      "updating: results/checkpoint-14434/training_args.bin (deflated 52%)\n",
      "updating: results/checkpoint-14434/scaler.pt (deflated 60%)\n",
      "updating: results/checkpoint-14434/tokenizer_config.json (deflated 75%)\n",
      "updating: results/checkpoint-14434/preprocessor_config.json (deflated 51%)\n",
      "updating: results/checkpoint-14434/rng_state.pth (deflated 25%)\n",
      "updating: results/checkpoint-14434/README.md (deflated 66%)\n",
      "updating: results/checkpoint-14434/tokenizer.json (deflated 71%)\n",
      "updating: results/checkpoint-14434/adapter_model.safetensors (deflated 7%)\n",
      "updating: results/checkpoint-14434/special_tokens_map.json (deflated 80%)\n",
      "updating: results/checkpoint-14434/scheduler.pt (deflated 55%)\n",
      "updating: results/checkpoint-14434/adapter_config.json (deflated 54%)\n",
      "updating: results/checkpoint-14434/vocab.txt (deflated 53%)\n",
      "updating: results/checkpoint-14434/optimizer.pt (deflated 7%)\n",
      "updating: results/checkpoint-14434/trainer_state.json (deflated 80%)\n",
      "updating: results/checkpoint-21651/ (stored 0%)\n",
      "updating: results/checkpoint-21651/training_args.bin (deflated 52%)\n",
      "updating: results/checkpoint-21651/scaler.pt (deflated 60%)\n",
      "updating: results/checkpoint-21651/tokenizer_config.json (deflated 75%)\n",
      "updating: results/checkpoint-21651/preprocessor_config.json (deflated 51%)\n",
      "updating: results/checkpoint-21651/rng_state.pth (deflated 25%)\n",
      "updating: results/checkpoint-21651/README.md (deflated 66%)\n",
      "updating: results/checkpoint-21651/tokenizer.json (deflated 71%)\n",
      "updating: results/checkpoint-21651/adapter_model.safetensors (deflated 7%)\n",
      "updating: results/checkpoint-21651/special_tokens_map.json (deflated 80%)\n",
      "updating: results/checkpoint-21651/scheduler.pt (deflated 55%)\n",
      "updating: results/checkpoint-21651/adapter_config.json (deflated 54%)\n",
      "updating: results/checkpoint-21651/vocab.txt (deflated 53%)\n",
      "updating: results/checkpoint-21651/optimizer.pt (deflated 7%)\n",
      "updating: results/checkpoint-21651/trainer_state.json (deflated 80%)\n",
      "updating: results/checkpoint-28868/ (stored 0%)\n",
      "updating: results/checkpoint-28868/training_args.bin (deflated 52%)\n",
      "updating: results/checkpoint-28868/scaler.pt (deflated 60%)\n",
      "updating: results/checkpoint-28868/tokenizer_config.json (deflated 75%)\n",
      "updating: results/checkpoint-28868/preprocessor_config.json (deflated 51%)\n",
      "updating: results/checkpoint-28868/rng_state.pth (deflated 25%)\n",
      "updating: results/checkpoint-28868/README.md (deflated 66%)\n",
      "updating: results/checkpoint-28868/tokenizer.json (deflated 71%)\n",
      "updating: results/checkpoint-28868/adapter_model.safetensors (deflated 7%)\n",
      "updating: results/checkpoint-28868/special_tokens_map.json (deflated 80%)\n",
      "updating: results/checkpoint-28868/scheduler.pt (deflated 56%)\n",
      "updating: results/checkpoint-28868/adapter_config.json (deflated 54%)\n",
      "updating: results/checkpoint-28868/vocab.txt (deflated 53%)\n",
      "updating: results/checkpoint-28868/optimizer.pt (deflated 7%)\n",
      "updating: results/checkpoint-28868/trainer_state.json (deflated 80%)\n",
      "updating: results/checkpoint-43302/ (stored 0%)\n",
      "updating: results/checkpoint-43302/training_args.bin (deflated 52%)\n",
      "updating: results/checkpoint-43302/scaler.pt (deflated 60%)\n",
      "updating: results/checkpoint-43302/tokenizer_config.json (deflated 75%)\n",
      "updating: results/checkpoint-43302/preprocessor_config.json (deflated 51%)\n",
      "updating: results/checkpoint-43302/rng_state.pth (deflated 25%)\n",
      "updating: results/checkpoint-43302/README.md (deflated 66%)\n",
      "updating: results/checkpoint-43302/tokenizer.json (deflated 71%)\n",
      "updating: results/checkpoint-43302/adapter_model.safetensors (deflated 7%)\n",
      "updating: results/checkpoint-43302/special_tokens_map.json (deflated 80%)\n",
      "updating: results/checkpoint-43302/scheduler.pt (deflated 55%)\n",
      "updating: results/checkpoint-43302/adapter_config.json (deflated 54%)\n",
      "updating: results/checkpoint-43302/vocab.txt (deflated 53%)\n",
      "updating: results/checkpoint-43302/optimizer.pt (deflated 7%)\n",
      "updating: results/checkpoint-43302/trainer_state.json (deflated 80%)\n",
      "updating: results/checkpoint-7217/ (stored 0%)\n",
      "updating: results/checkpoint-7217/training_args.bin (deflated 52%)\n",
      "updating: results/checkpoint-7217/scaler.pt (deflated 60%)\n",
      "updating: results/checkpoint-7217/tokenizer_config.json (deflated 75%)\n",
      "updating: results/checkpoint-7217/preprocessor_config.json (deflated 51%)\n",
      "updating: results/checkpoint-7217/rng_state.pth (deflated 25%)\n",
      "updating: results/checkpoint-7217/README.md (deflated 66%)\n",
      "updating: results/checkpoint-7217/tokenizer.json (deflated 71%)\n",
      "updating: results/checkpoint-7217/adapter_model.safetensors (deflated 7%)\n",
      "updating: results/checkpoint-7217/special_tokens_map.json (deflated 80%)\n",
      "updating: results/checkpoint-7217/scheduler.pt (deflated 55%)\n",
      "updating: results/checkpoint-7217/adapter_config.json (deflated 54%)\n",
      "updating: results/checkpoint-7217/vocab.txt (deflated 53%)\n",
      "updating: results/checkpoint-7217/optimizer.pt (deflated 7%)\n",
      "updating: results/checkpoint-7217/trainer_state.json (deflated 79%)\n"
     ]
    },
    {
     "data": {
      "text/html": [
       "<a href='viltt_final_model.zip' target='_blank'>viltt_final_model.zip</a><br>"
      ],
      "text/plain": [
       "/kaggle/working/viltt_final_model.zip"
      ]
     },
     "metadata": {},
     "output_type": "display_data"
    }
   ],
   "source": [
    "from IPython.display import FileLink\n",
    "\n",
    "# After zipping\n",
    "os.system(\"zip -r viltt_final_model.zip ./results\")\n",
    "\n",
    "# Provide a clickable download link\n",
    "display(FileLink(\"viltt_final_model.zip\"))\n"
   ]
  },
  {
   "cell_type": "code",
   "execution_count": 86,
   "metadata": {
    "execution": {
     "iopub.execute_input": "2025-05-16T09:37:39.321303Z",
     "iopub.status.busy": "2025-05-16T09:37:39.320686Z",
     "iopub.status.idle": "2025-05-16T09:37:39.325451Z",
     "shell.execute_reply": "2025-05-16T09:37:39.324789Z",
     "shell.execute_reply.started": "2025-05-16T09:37:39.321280Z"
    }
   },
   "outputs": [
    {
     "name": "stdout",
     "output_type": "stream",
     "text": [
      "Files in model directory:\n",
      "['training_args.bin', 'tokenizer_config.json', 'preprocessor_config.json', 'README.md', 'tokenizer.json', 'adapter_model.safetensors', 'special_tokens_map.json', 'adapter_config.json', 'vocab.txt']\n"
     ]
    }
   ],
   "source": [
    "\n",
    "\n",
    "model_path = \"/kaggle/working/finee_tuned_final-VILT-_vqa_lora\" \n",
    "print(\"Files in model directory:\")\n",
    "print(os.listdir(model_path))\n"
   ]
  },
  {
   "cell_type": "code",
   "execution_count": null,
   "metadata": {},
   "outputs": [],
   "source": []
  }
 ],
 "metadata": {
  "kaggle": {
   "accelerator": "none",
   "dataSources": [
    {
     "datasetId": 7413279,
     "sourceId": 11804530,
     "sourceType": "datasetVersion"
    },
    {
     "datasetId": 7434922,
     "sourceId": 11834393,
     "sourceType": "datasetVersion"
    }
   ],
   "dockerImageVersionId": 31040,
   "isGpuEnabled": false,
   "isInternetEnabled": true,
   "language": "python",
   "sourceType": "notebook"
  },
  "kernelspec": {
   "display_name": "Python 3 (ipykernel)",
   "language": "python",
   "name": "python3"
  },
  "language_info": {
   "codemirror_mode": {
    "name": "ipython",
    "version": 3
   },
   "file_extension": ".py",
   "mimetype": "text/x-python",
   "name": "python",
   "nbconvert_exporter": "python",
   "pygments_lexer": "ipython3",
   "version": "3.10.12"
  }
 },
 "nbformat": 4,
 "nbformat_minor": 4
}
