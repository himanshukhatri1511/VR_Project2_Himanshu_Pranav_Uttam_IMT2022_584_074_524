{
 "cells": [
  {
   "cell_type": "code",
   "execution_count": 12,
   "id": "66dacbec-e0e1-49cf-bf0f-be2cd9d8e0b1",
   "metadata": {},
   "outputs": [],
   "source": [
    "import pandas as pd"
   ]
  },
  {
   "cell_type": "markdown",
   "id": "f523d365-3640-4954-ba11-cf4a50cefed2",
   "metadata": {},
   "source": [
    "### Based on the exploratory data analysis (EDA) performed on the curated dataset, we proceed with preprocessing the data."
   ]
  },
  {
   "cell_type": "code",
   "execution_count": 25,
   "id": "5aa85634-7c81-4ab5-9a0b-9d644f777790",
   "metadata": {},
   "outputs": [],
   "source": [
    "#Loading curated data\n",
    "\n",
    "df=pd.read_csv(\"finalDataset.csv\")\n",
    "df['full_image_path'] = df['full_image_path'].str.replace(\"\\\\\", \"/\", regex=False)"
   ]
  },
  {
   "cell_type": "code",
   "execution_count": 14,
   "id": "54d74fe6-8fa2-411d-8d6c-7294dd9988ba",
   "metadata": {},
   "outputs": [
    {
     "data": {
      "text/html": [
       "<div>\n",
       "<style scoped>\n",
       "    .dataframe tbody tr th:only-of-type {\n",
       "        vertical-align: middle;\n",
       "    }\n",
       "\n",
       "    .dataframe tbody tr th {\n",
       "        vertical-align: top;\n",
       "    }\n",
       "\n",
       "    .dataframe thead th {\n",
       "        text-align: right;\n",
       "    }\n",
       "</style>\n",
       "<table border=\"1\" class=\"dataframe\">\n",
       "  <thead>\n",
       "    <tr style=\"text-align: right;\">\n",
       "      <th></th>\n",
       "      <th>image_id</th>\n",
       "      <th>full_image_path</th>\n",
       "      <th>question</th>\n",
       "      <th>answer</th>\n",
       "    </tr>\n",
       "  </thead>\n",
       "  <tbody>\n",
       "    <tr>\n",
       "      <th>0</th>\n",
       "      <td>81+4dBN1jsL</td>\n",
       "      <td>abo-images-small/images/small/9d/9dfccb37.jpg</td>\n",
       "      <td>What shape is this?</td>\n",
       "      <td>Rectangular</td>\n",
       "    </tr>\n",
       "    <tr>\n",
       "      <th>1</th>\n",
       "      <td>81+4dBN1jsL</td>\n",
       "      <td>abo-images-small/images/small/9d/9dfccb37.jpg</td>\n",
       "      <td>Is it a cover?</td>\n",
       "      <td>Yes</td>\n",
       "    </tr>\n",
       "    <tr>\n",
       "      <th>2</th>\n",
       "      <td>81+4dBN1jsL</td>\n",
       "      <td>abo-images-small/images/small/9d/9dfccb37.jpg</td>\n",
       "      <td>What color is bottom?</td>\n",
       "      <td>Red</td>\n",
       "    </tr>\n",
       "    <tr>\n",
       "      <th>3</th>\n",
       "      <td>81+4dBN1jsL</td>\n",
       "      <td>abo-images-small/images/small/9d/9dfccb37.jpg</td>\n",
       "      <td>Are there multiple colors?</td>\n",
       "      <td>Yes</td>\n",
       "    </tr>\n",
       "    <tr>\n",
       "      <th>4</th>\n",
       "      <td>81+4dBN1jsL</td>\n",
       "      <td>abo-images-small/images/small/9d/9dfccb37.jpg</td>\n",
       "      <td>Is there a camera hole?</td>\n",
       "      <td>Yes</td>\n",
       "    </tr>\n",
       "    <tr>\n",
       "      <th>...</th>\n",
       "      <td>...</td>\n",
       "      <td>...</td>\n",
       "      <td>...</td>\n",
       "      <td>...</td>\n",
       "    </tr>\n",
       "    <tr>\n",
       "      <th>159145</th>\n",
       "      <td>81yoY30yFiL</td>\n",
       "      <td>abo-images-small/images/small/7a/7ab6a11b.jpg</td>\n",
       "      <td>What word is centered on the cover?</td>\n",
       "      <td>Super</td>\n",
       "    </tr>\n",
       "    <tr>\n",
       "      <th>159146</th>\n",
       "      <td>81yoY30yFiL</td>\n",
       "      <td>abo-images-small/images/small/7a/7ab6a11b.jpg</td>\n",
       "      <td>What color is the written text?</td>\n",
       "      <td>Yellow</td>\n",
       "    </tr>\n",
       "    <tr>\n",
       "      <th>159147</th>\n",
       "      <td>81yoY30yFiL</td>\n",
       "      <td>abo-images-small/images/small/7a/7ab6a11b.jpg</td>\n",
       "      <td>What is the shape of the cover?</td>\n",
       "      <td>Rectangle</td>\n",
       "    </tr>\n",
       "    <tr>\n",
       "      <th>159148</th>\n",
       "      <td>81yoY30yFiL</td>\n",
       "      <td>abo-images-small/images/small/7a/7ab6a11b.jpg</td>\n",
       "      <td>What is the background comprised of?</td>\n",
       "      <td>Fragments</td>\n",
       "    </tr>\n",
       "    <tr>\n",
       "      <th>159149</th>\n",
       "      <td>81yoY30yFiL</td>\n",
       "      <td>abo-images-small/images/small/7a/7ab6a11b.jpg</td>\n",
       "      <td>Is the camera cutout at the top?</td>\n",
       "      <td>Yes</td>\n",
       "    </tr>\n",
       "  </tbody>\n",
       "</table>\n",
       "<p>159150 rows × 4 columns</p>\n",
       "</div>"
      ],
      "text/plain": [
       "           image_id                                full_image_path  \\\n",
       "0       81+4dBN1jsL  abo-images-small/images/small/9d/9dfccb37.jpg   \n",
       "1       81+4dBN1jsL  abo-images-small/images/small/9d/9dfccb37.jpg   \n",
       "2       81+4dBN1jsL  abo-images-small/images/small/9d/9dfccb37.jpg   \n",
       "3       81+4dBN1jsL  abo-images-small/images/small/9d/9dfccb37.jpg   \n",
       "4       81+4dBN1jsL  abo-images-small/images/small/9d/9dfccb37.jpg   \n",
       "...             ...                                            ...   \n",
       "159145  81yoY30yFiL  abo-images-small/images/small/7a/7ab6a11b.jpg   \n",
       "159146  81yoY30yFiL  abo-images-small/images/small/7a/7ab6a11b.jpg   \n",
       "159147  81yoY30yFiL  abo-images-small/images/small/7a/7ab6a11b.jpg   \n",
       "159148  81yoY30yFiL  abo-images-small/images/small/7a/7ab6a11b.jpg   \n",
       "159149  81yoY30yFiL  abo-images-small/images/small/7a/7ab6a11b.jpg   \n",
       "\n",
       "                                    question       answer  \n",
       "0                        What shape is this?  Rectangular  \n",
       "1                             Is it a cover?          Yes  \n",
       "2                      What color is bottom?          Red  \n",
       "3                 Are there multiple colors?          Yes  \n",
       "4                    Is there a camera hole?          Yes  \n",
       "...                                      ...          ...  \n",
       "159145   What word is centered on the cover?        Super  \n",
       "159146       What color is the written text?       Yellow  \n",
       "159147       What is the shape of the cover?    Rectangle  \n",
       "159148  What is the background comprised of?    Fragments  \n",
       "159149      Is the camera cutout at the top?          Yes  \n",
       "\n",
       "[159150 rows x 4 columns]"
      ]
     },
     "execution_count": 14,
     "metadata": {},
     "output_type": "execute_result"
    }
   ],
   "source": [
    "df"
   ]
  },
  {
   "cell_type": "code",
   "execution_count": 26,
   "id": "bfb39f5b-b18a-4047-9892-04bafee4f215",
   "metadata": {},
   "outputs": [
    {
     "name": "stdout",
     "output_type": "stream",
     "text": [
      "Initial shape: (159150, 4)\n"
     ]
    }
   ],
   "source": [
    "print(\"Initial shape:\", df.shape)\n"
   ]
  },
  {
   "cell_type": "code",
   "execution_count": 27,
   "id": "a4dd0bac-25f1-4996-89e4-04faeca7fd21",
   "metadata": {},
   "outputs": [],
   "source": [
    "#  Lowercase\n",
    "df['question'] = df['question'].str.lower()\n",
    "df['answer'] = df['answer'].str.lower()"
   ]
  },
  {
   "cell_type": "markdown",
   "id": "ad9b12e6-65c2-42f6-81ac-f0310131712d",
   "metadata": {},
   "source": [
    "### Dropping null values"
   ]
  },
  {
   "cell_type": "code",
   "execution_count": 28,
   "id": "486ec384-120d-4137-8f9a-8bf6bed4b2a3",
   "metadata": {},
   "outputs": [
    {
     "name": "stdout",
     "output_type": "stream",
     "text": [
      "Null value counts:\n",
      " image_id            0\n",
      "full_image_path     0\n",
      "question            0\n",
      "answer             54\n",
      "dtype: int64\n",
      "Rows with nulls: 54\n"
     ]
    }
   ],
   "source": [
    "print(\"Null value counts:\\n\", df.isnull().sum())\n",
    "print(\"Rows with nulls:\", df.isnull().any(axis=1).sum())"
   ]
  },
  {
   "cell_type": "code",
   "execution_count": 29,
   "id": "498ab00c-326d-4af5-a503-f4eb2a01e383",
   "metadata": {},
   "outputs": [
    {
     "name": "stdout",
     "output_type": "stream",
     "text": [
      "After dropping nulls: (159096, 4)\n"
     ]
    }
   ],
   "source": [
    "# Drop nulls\n",
    "df = df.dropna()\n",
    "print(\"After dropping nulls:\", df.shape)"
   ]
  },
  {
   "cell_type": "markdown",
   "id": "a69c019d-bc65-4f8b-a338-3b7224752c01",
   "metadata": {},
   "source": [
    "### Handling yes/no answers\n",
    "\n",
    "- As we saw in EDA, almost 45% of answers are yes/no. So we have to preprocess such answers"
   ]
  },
  {
   "cell_type": "code",
   "execution_count": 30,
   "id": "4b1b355a-acfe-4345-b9be-6f965e5aa67c",
   "metadata": {},
   "outputs": [
    {
     "name": "stdout",
     "output_type": "stream",
     "text": [
      "Rows with yes/no answers: 72491\n"
     ]
    }
   ],
   "source": [
    "yes_no_count = df['answer'].str.lower().isin(['yes', 'no']).sum()\n",
    "print(\"Rows with yes/no answers:\", yes_no_count)"
   ]
  },
  {
   "cell_type": "code",
   "execution_count": 31,
   "id": "d2d132d8-6485-40c2-b0fa-f0e6f42a7623",
   "metadata": {},
   "outputs": [
    {
     "name": "stdout",
     "output_type": "stream",
     "text": [
      "Original 'yes' count: 64883\n",
      "Original 'no' count: 7608\n"
     ]
    }
   ],
   "source": [
    "yes_mask = df['answer'].str.lower() == 'yes'\n",
    "no_mask = df['answer'].str.lower() == 'no'\n",
    "yes_count = yes_mask.sum()\n",
    "no_count = no_mask.sum()\n",
    "print(f\"Original 'yes' count: {yes_count}\")\n",
    "print(f\"Original 'no' count: {no_count}\")"
   ]
  },
  {
   "cell_type": "code",
   "execution_count": 32,
   "id": "e0b04339-1f55-4c94-a772-7b5b7f65b44c",
   "metadata": {},
   "outputs": [],
   "source": [
    "# Sample yes/no such that it forms just 2% of whole dataset \n",
    "\n",
    "total_rows = len(df)\n",
    "target_yes_no = int(0.01 * total_rows)  \n",
    "\n",
    "\n",
    "yes_sampled = df[yes_mask].sample(n=min(target_yes_no, yes_count), random_state=42)\n",
    "no_sampled = df[no_mask].sample(n=min(target_yes_no, no_count), random_state=42)\n"
   ]
  },
  {
   "cell_type": "code",
   "execution_count": 33,
   "id": "0395aa88-53a7-4d56-873c-6bdff2a7108f",
   "metadata": {},
   "outputs": [
    {
     "name": "stdout",
     "output_type": "stream",
     "text": [
      "Non-yes/no rows: (86605, 4)\n"
     ]
    }
   ],
   "source": [
    "# non-yes/no rows\n",
    "non_yes_no_df = df[~(yes_mask | no_mask)]\n",
    "print(\"Non-yes/no rows:\", non_yes_no_df.shape)"
   ]
  },
  {
   "cell_type": "code",
   "execution_count": 34,
   "id": "2228940c-8a16-40a7-bfec-577a91decb98",
   "metadata": {},
   "outputs": [
    {
     "name": "stdout",
     "output_type": "stream",
     "text": [
      "After limiting yes/no : (89785, 4)\n",
      " 'yes' count: 1590\n",
      " 'no' count: 1590\n"
     ]
    }
   ],
   "source": [
    "df = pd.concat([non_yes_no_df, yes_sampled, no_sampled], ignore_index=True)\n",
    "print(\"After limiting yes/no :\", df.shape)\n",
    "\n",
    "yes_mask = df['answer'].str.lower() == 'yes'\n",
    "no_mask = df['answer'].str.lower() == 'no'\n",
    "yes_count = yes_mask.sum()\n",
    "no_count = no_mask.sum()\n",
    "print(f\" 'yes' count: {yes_count}\")\n",
    "print(f\" 'no' count: {no_count}\")\n",
    "\n"
   ]
  },
  {
   "cell_type": "code",
   "execution_count": 35,
   "id": "da3364a0-167c-46a7-a5de-c52ef0db3f77",
   "metadata": {},
   "outputs": [
    {
     "data": {
      "text/html": [
       "<div>\n",
       "<style scoped>\n",
       "    .dataframe tbody tr th:only-of-type {\n",
       "        vertical-align: middle;\n",
       "    }\n",
       "\n",
       "    .dataframe tbody tr th {\n",
       "        vertical-align: top;\n",
       "    }\n",
       "\n",
       "    .dataframe thead th {\n",
       "        text-align: right;\n",
       "    }\n",
       "</style>\n",
       "<table border=\"1\" class=\"dataframe\">\n",
       "  <thead>\n",
       "    <tr style=\"text-align: right;\">\n",
       "      <th></th>\n",
       "      <th>image_id</th>\n",
       "      <th>full_image_path</th>\n",
       "      <th>question</th>\n",
       "      <th>answer</th>\n",
       "    </tr>\n",
       "  </thead>\n",
       "  <tbody>\n",
       "    <tr>\n",
       "      <th>0</th>\n",
       "      <td>81+4dBN1jsL</td>\n",
       "      <td>abo-images-small/images/small/9d/9dfccb37.jpg</td>\n",
       "      <td>what shape is this?</td>\n",
       "      <td>rectangular</td>\n",
       "    </tr>\n",
       "    <tr>\n",
       "      <th>1</th>\n",
       "      <td>81+4dBN1jsL</td>\n",
       "      <td>abo-images-small/images/small/9d/9dfccb37.jpg</td>\n",
       "      <td>what color is bottom?</td>\n",
       "      <td>red</td>\n",
       "    </tr>\n",
       "    <tr>\n",
       "      <th>2</th>\n",
       "      <td>71tgJqobw6L</td>\n",
       "      <td>abo-images-small/images/small/77/77412532.jpg</td>\n",
       "      <td>what shape are the designs?</td>\n",
       "      <td>butterflies</td>\n",
       "    </tr>\n",
       "    <tr>\n",
       "      <th>3</th>\n",
       "      <td>71tgJqobw6L</td>\n",
       "      <td>abo-images-small/images/small/77/77412532.jpg</td>\n",
       "      <td>what color is the case?</td>\n",
       "      <td>black</td>\n",
       "    </tr>\n",
       "    <tr>\n",
       "      <th>4</th>\n",
       "      <td>71tgJqobw6L</td>\n",
       "      <td>abo-images-small/images/small/77/77412532.jpg</td>\n",
       "      <td>what is the light effect?</td>\n",
       "      <td>neon</td>\n",
       "    </tr>\n",
       "    <tr>\n",
       "      <th>...</th>\n",
       "      <td>...</td>\n",
       "      <td>...</td>\n",
       "      <td>...</td>\n",
       "      <td>...</td>\n",
       "    </tr>\n",
       "    <tr>\n",
       "      <th>89780</th>\n",
       "      <td>61VbmqSEozL</td>\n",
       "      <td>abo-images-small/images/small/a5/a5c5da7a.jpg</td>\n",
       "      <td>is the background white?</td>\n",
       "      <td>no</td>\n",
       "    </tr>\n",
       "    <tr>\n",
       "      <th>89781</th>\n",
       "      <td>81EdKcYz63L</td>\n",
       "      <td>abo-images-small/images/small/a4/a4e56c51.jpg</td>\n",
       "      <td>is it rectangular?</td>\n",
       "      <td>no</td>\n",
       "    </tr>\n",
       "    <tr>\n",
       "      <th>89782</th>\n",
       "      <td>81neFBcDQPL</td>\n",
       "      <td>abo-images-small/images/small/bd/bd539cac.jpg</td>\n",
       "      <td>is it a foldable phone?</td>\n",
       "      <td>no</td>\n",
       "    </tr>\n",
       "    <tr>\n",
       "      <th>89783</th>\n",
       "      <td>81o+rtsQmIL</td>\n",
       "      <td>abo-images-small/images/small/95/95fdb0fb.jpg</td>\n",
       "      <td>are the tiles uniform?</td>\n",
       "      <td>no</td>\n",
       "    </tr>\n",
       "    <tr>\n",
       "      <th>89784</th>\n",
       "      <td>71dYUWl-JzL</td>\n",
       "      <td>abo-images-small/images/small/08/0894300e.jpg</td>\n",
       "      <td>is the case transparent?</td>\n",
       "      <td>no</td>\n",
       "    </tr>\n",
       "  </tbody>\n",
       "</table>\n",
       "<p>89785 rows × 4 columns</p>\n",
       "</div>"
      ],
      "text/plain": [
       "          image_id                                full_image_path  \\\n",
       "0      81+4dBN1jsL  abo-images-small/images/small/9d/9dfccb37.jpg   \n",
       "1      81+4dBN1jsL  abo-images-small/images/small/9d/9dfccb37.jpg   \n",
       "2      71tgJqobw6L  abo-images-small/images/small/77/77412532.jpg   \n",
       "3      71tgJqobw6L  abo-images-small/images/small/77/77412532.jpg   \n",
       "4      71tgJqobw6L  abo-images-small/images/small/77/77412532.jpg   \n",
       "...            ...                                            ...   \n",
       "89780  61VbmqSEozL  abo-images-small/images/small/a5/a5c5da7a.jpg   \n",
       "89781  81EdKcYz63L  abo-images-small/images/small/a4/a4e56c51.jpg   \n",
       "89782  81neFBcDQPL  abo-images-small/images/small/bd/bd539cac.jpg   \n",
       "89783  81o+rtsQmIL  abo-images-small/images/small/95/95fdb0fb.jpg   \n",
       "89784  71dYUWl-JzL  abo-images-small/images/small/08/0894300e.jpg   \n",
       "\n",
       "                          question       answer  \n",
       "0              what shape is this?  rectangular  \n",
       "1            what color is bottom?          red  \n",
       "2      what shape are the designs?  butterflies  \n",
       "3          what color is the case?        black  \n",
       "4        what is the light effect?         neon  \n",
       "...                            ...          ...  \n",
       "89780     is the background white?           no  \n",
       "89781           is it rectangular?           no  \n",
       "89782      is it a foldable phone?           no  \n",
       "89783       are the tiles uniform?           no  \n",
       "89784     is the case transparent?           no  \n",
       "\n",
       "[89785 rows x 4 columns]"
      ]
     },
     "execution_count": 35,
     "metadata": {},
     "output_type": "execute_result"
    }
   ],
   "source": [
    "df"
   ]
  },
  {
   "cell_type": "code",
   "execution_count": null,
   "id": "1e2678e9-f8d7-4a8a-8e54-84ab52b1a494",
   "metadata": {},
   "outputs": [],
   "source": []
  },
  {
   "cell_type": "markdown",
   "id": "ab1ceb16-df55-443c-87af-af0785b7297a",
   "metadata": {},
   "source": [
    "### Answer distribution"
   ]
  },
  {
   "cell_type": "code",
   "execution_count": 510,
   "id": "6f8804f0-50fc-4c57-9e25-3f0623a8c486",
   "metadata": {},
   "outputs": [
    {
     "name": "stdout",
     "output_type": "stream",
     "text": [
      "Original size: 89785, Reduced size: 78883\n"
     ]
    }
   ],
   "source": [
    "# We have seen the Answer distribution in EDA, so we make sure that the maximum count per answer is just 3% for a better distribution\n",
    "\n",
    "total_rows = len(df)\n",
    "max_allowed_count = int(0.03 * total_rows) \n",
    "new_dfs = []\n",
    "\n",
    "for ans, count in df['answer'].value_counts().items():\n",
    "    ans_df = df[df['answer'] == ans]\n",
    "    if count > max_allowed_count:\n",
    "        # randomly sample only max_allowed_count rows\n",
    "        ans_df = ans_df.sample(n=max_allowed_count, random_state=42)\n",
    "  \n",
    "    new_dfs.append(ans_df)\n",
    "\n",
    "\n",
    "df_reduced = pd.concat(new_dfs, ignore_index=True)\n",
    "\n",
    "\n",
    "df_reduced = df_reduced.sample(frac=1, random_state=42).reset_index(drop=True)\n",
    "df=df_reduced\n",
    "\n",
    "print(f\"Original size: {total_rows}, Reduced size: {len(df_reduced)}\")\n"
   ]
  },
  {
   "cell_type": "code",
   "execution_count": 511,
   "id": "0d348467-1e3c-418f-bf93-c9c9594aa23c",
   "metadata": {},
   "outputs": [
    {
     "name": "stdout",
     "output_type": "stream",
     "text": [
      "no of datapoints 78883\n"
     ]
    }
   ],
   "source": [
    "print(f\"no of datapoints {len(df)}\")\n"
   ]
  },
  {
   "cell_type": "code",
   "execution_count": null,
   "id": "4e43975b-f606-4b7e-81b9-7685a3196987",
   "metadata": {},
   "outputs": [],
   "source": []
  },
  {
   "cell_type": "markdown",
   "id": "2867a80d-5050-4e29-bd41-e01c6151a1a1",
   "metadata": {},
   "source": [
    "### In EDA, we saw word count of questions, and we noticed that there are  questions with just one word, so we handle them here"
   ]
  },
  {
   "cell_type": "code",
   "execution_count": 512,
   "id": "610abb8f-4103-4f8a-9ec2-0cadd2a56873",
   "metadata": {},
   "outputs": [
    {
     "name": "stdout",
     "output_type": "stream",
     "text": [
      "One-word questions: 3399\n"
     ]
    }
   ],
   "source": [
    "# one-word questions\n",
    "word_counts = df['question'].str.split().str.len()\n",
    "one_word_count = (word_counts == 1).sum()\n",
    "print(\"One-word questions:\", one_word_count)"
   ]
  },
  {
   "cell_type": "code",
   "execution_count": 513,
   "id": "fcdbe552-3067-452f-b31d-d0632644957f",
   "metadata": {},
   "outputs": [],
   "source": [
    "# Drop rows where the question has only one word\n",
    "df = df[word_counts > 1]"
   ]
  },
  {
   "cell_type": "code",
   "execution_count": 514,
   "id": "484eacf8-93f1-4a7f-bb77-f3254740b926",
   "metadata": {},
   "outputs": [
    {
     "name": "stdout",
     "output_type": "stream",
     "text": [
      "no of datapoints 75484\n"
     ]
    }
   ],
   "source": [
    "print(f\"no of datapoints {len(df)}\")\n"
   ]
  },
  {
   "cell_type": "code",
   "execution_count": 515,
   "id": "0bdcd501-3bde-48e7-8ab4-8cc4e61f09fe",
   "metadata": {},
   "outputs": [
    {
     "data": {
      "text/html": [
       "<div>\n",
       "<style scoped>\n",
       "    .dataframe tbody tr th:only-of-type {\n",
       "        vertical-align: middle;\n",
       "    }\n",
       "\n",
       "    .dataframe tbody tr th {\n",
       "        vertical-align: top;\n",
       "    }\n",
       "\n",
       "    .dataframe thead th {\n",
       "        text-align: right;\n",
       "    }\n",
       "</style>\n",
       "<table border=\"1\" class=\"dataframe\">\n",
       "  <thead>\n",
       "    <tr style=\"text-align: right;\">\n",
       "      <th></th>\n",
       "      <th>image_id</th>\n",
       "      <th>full_image_path</th>\n",
       "      <th>question</th>\n",
       "      <th>answer</th>\n",
       "    </tr>\n",
       "  </thead>\n",
       "  <tbody>\n",
       "    <tr>\n",
       "      <th>0</th>\n",
       "      <td>71VyNJh1ApL</td>\n",
       "      <td>abo-images-small/images/small/64/649b029e.jpg</td>\n",
       "      <td>what letter is visible?</td>\n",
       "      <td>d</td>\n",
       "    </tr>\n",
       "    <tr>\n",
       "      <th>1</th>\n",
       "      <td>71NlUsMrL+L</td>\n",
       "      <td>abo-images-small/images/small/6d/6d15f0f9.jpg</td>\n",
       "      <td>what color is the background of the right-side...</td>\n",
       "      <td>yellow</td>\n",
       "    </tr>\n",
       "    <tr>\n",
       "      <th>2</th>\n",
       "      <td>71S1WDtkFpL</td>\n",
       "      <td>abo-images-small/images/small/d4/d403a369.jpg</td>\n",
       "      <td>what color is the jacket?</td>\n",
       "      <td>yellow</td>\n",
       "    </tr>\n",
       "    <tr>\n",
       "      <th>3</th>\n",
       "      <td>71RFBqFrhzL</td>\n",
       "      <td>abo-images-small/images/small/c6/c6c40357.jpg</td>\n",
       "      <td>what color is predominant?</td>\n",
       "      <td>pink</td>\n",
       "    </tr>\n",
       "    <tr>\n",
       "      <th>4</th>\n",
       "      <td>81BCgIYDMYL</td>\n",
       "      <td>abo-images-small/images/small/31/31a770ea.jpg</td>\n",
       "      <td>are there more dark or light parts?</td>\n",
       "      <td>light</td>\n",
       "    </tr>\n",
       "    <tr>\n",
       "      <th>...</th>\n",
       "      <td>...</td>\n",
       "      <td>...</td>\n",
       "      <td>...</td>\n",
       "      <td>...</td>\n",
       "    </tr>\n",
       "    <tr>\n",
       "      <th>78878</th>\n",
       "      <td>81fgb2JAKzL</td>\n",
       "      <td>abo-images-small/images/small/8b/8bcd2fbd.jpg</td>\n",
       "      <td>what is the boot's color?</td>\n",
       "      <td>blue</td>\n",
       "    </tr>\n",
       "    <tr>\n",
       "      <th>78879</th>\n",
       "      <td>71FjSurSI5L</td>\n",
       "      <td>abo-images-small/images/small/0b/0b9a2467.jpg</td>\n",
       "      <td>what is the background texture?</td>\n",
       "      <td>wood</td>\n",
       "    </tr>\n",
       "    <tr>\n",
       "      <th>78880</th>\n",
       "      <td>71Ag3cMsZSL</td>\n",
       "      <td>abo-images-small/images/small/5f/5f854cc6.jpg</td>\n",
       "      <td>what type of shoe is this?</td>\n",
       "      <td>boot</td>\n",
       "    </tr>\n",
       "    <tr>\n",
       "      <th>78881</th>\n",
       "      <td>71RNMsV8HEL</td>\n",
       "      <td>abo-images-small/images/small/4b/4bb53f13.jpg</td>\n",
       "      <td>how many visible ports are there?</td>\n",
       "      <td>two</td>\n",
       "    </tr>\n",
       "    <tr>\n",
       "      <th>78882</th>\n",
       "      <td>71XJ4pAJJGL</td>\n",
       "      <td>abo-images-small/images/small/33/3319136e.jpg</td>\n",
       "      <td>what is the background's primary color?</td>\n",
       "      <td>red</td>\n",
       "    </tr>\n",
       "  </tbody>\n",
       "</table>\n",
       "<p>75484 rows × 4 columns</p>\n",
       "</div>"
      ],
      "text/plain": [
       "          image_id                                full_image_path  \\\n",
       "0      71VyNJh1ApL  abo-images-small/images/small/64/649b029e.jpg   \n",
       "1      71NlUsMrL+L  abo-images-small/images/small/6d/6d15f0f9.jpg   \n",
       "2      71S1WDtkFpL  abo-images-small/images/small/d4/d403a369.jpg   \n",
       "3      71RFBqFrhzL  abo-images-small/images/small/c6/c6c40357.jpg   \n",
       "4      81BCgIYDMYL  abo-images-small/images/small/31/31a770ea.jpg   \n",
       "...            ...                                            ...   \n",
       "78878  81fgb2JAKzL  abo-images-small/images/small/8b/8bcd2fbd.jpg   \n",
       "78879  71FjSurSI5L  abo-images-small/images/small/0b/0b9a2467.jpg   \n",
       "78880  71Ag3cMsZSL  abo-images-small/images/small/5f/5f854cc6.jpg   \n",
       "78881  71RNMsV8HEL  abo-images-small/images/small/4b/4bb53f13.jpg   \n",
       "78882  71XJ4pAJJGL  abo-images-small/images/small/33/3319136e.jpg   \n",
       "\n",
       "                                                question  answer  \n",
       "0                                what letter is visible?       d  \n",
       "1      what color is the background of the right-side...  yellow  \n",
       "2                              what color is the jacket?  yellow  \n",
       "3                             what color is predominant?    pink  \n",
       "4                    are there more dark or light parts?   light  \n",
       "...                                                  ...     ...  \n",
       "78878                          what is the boot's color?    blue  \n",
       "78879                    what is the background texture?    wood  \n",
       "78880                         what type of shoe is this?    boot  \n",
       "78881                  how many visible ports are there?     two  \n",
       "78882            what is the background's primary color?     red  \n",
       "\n",
       "[75484 rows x 4 columns]"
      ]
     },
     "execution_count": 515,
     "metadata": {},
     "output_type": "execute_result"
    }
   ],
   "source": [
    "df"
   ]
  },
  {
   "cell_type": "markdown",
   "id": "03594f17-c274-4b5e-a26e-ded6f6987236",
   "metadata": {},
   "source": [
    "### We randomly sample 70k datapoints out of 75484 datapoints"
   ]
  },
  {
   "cell_type": "code",
   "execution_count": 516,
   "id": "e440df03-1d12-4851-a573-3347d4b0a7da",
   "metadata": {},
   "outputs": [
    {
     "name": "stdout",
     "output_type": "stream",
     "text": [
      "After sampling 60k: (70000, 4)\n"
     ]
    }
   ],
   "source": [
    "# Random sample 70k\n",
    "df_sampled = df.sample(n=70000, random_state=42).reset_index(drop=True)\n",
    "print(\"After sampling 60k:\", df_sampled.shape)"
   ]
  },
  {
   "cell_type": "code",
   "execution_count": 517,
   "id": "ab902ce8-f0a6-48b8-b888-34beffdbb2a5",
   "metadata": {},
   "outputs": [
    {
     "name": "stdout",
     "output_type": "stream",
     "text": [
      "'Yes' answers: 1351 (1.93%)\n",
      "'No' answers: 1451 (2.07%)\n",
      "        answer  count         %\n",
      "0        three   2504  3.577143\n",
      "1          one   2481  3.544286\n",
      "2         pink   2456  3.508571\n",
      "3         blue   2455  3.507143\n",
      "4          two   2450  3.500000\n",
      "5          red   2440  3.485714\n",
      "6        black   2386  3.408571\n",
      "7  rectangular   2068  2.954286\n",
      "8       yellow   1913  2.732857\n",
      "9       circle   1787  2.552857\n"
     ]
    }
   ],
   "source": [
    "# Answer distribution\n",
    "answer_counts = df_sampled['answer'].value_counts().reset_index()\n",
    "answer_counts.columns = ['answer', 'count']\n",
    "answer_counts['%'] = (answer_counts['count'] / len(df_sampled)) * 100\n",
    "\n",
    "yes_count = df_sampled[df_sampled['answer'].str.lower() == 'yes'].shape[0]\n",
    "no_count = df_sampled[df_sampled['answer'].str.lower() == 'no'].shape[0]\n",
    "\n",
    "print(f\"'Yes' answers: {yes_count} ({yes_count / 70000 * 100:.2f}%)\")\n",
    "print(f\"'No' answers: {no_count} ({no_count / 70000 * 100:.2f}%)\")\n",
    "print(answer_counts.head(10))"
   ]
  },
  {
   "cell_type": "code",
   "execution_count": null,
   "id": "8a59e16c-9ae2-44eb-ae34-7d1346e1a8ca",
   "metadata": {},
   "outputs": [],
   "source": []
  },
  {
   "cell_type": "markdown",
   "id": "3292e195-ccc4-4a16-b0e2-8d29211e9cbf",
   "metadata": {},
   "source": [
    "### Train-val split (80%-20%)"
   ]
  },
  {
   "cell_type": "code",
   "execution_count": 518,
   "id": "b5502bc5-b286-46bf-a6ce-6206a910e4d2",
   "metadata": {},
   "outputs": [
    {
     "name": "stdout",
     "output_type": "stream",
     "text": [
      "Train shape: (56000, 4)\n",
      "Val shape: (14000, 4)\n"
     ]
    }
   ],
   "source": [
    "#Train/Val Split\n",
    "from sklearn.model_selection import train_test_split\n",
    "train_df, val_df = train_test_split(df_sampled, test_size=0.2, random_state=42)\n",
    "print(\"Train shape:\", train_df.shape)\n",
    "print(\"Val shape:\", val_df.shape)"
   ]
  },
  {
   "cell_type": "code",
   "execution_count": 522,
   "id": "f62528cb-3a42-4b90-ac58-7240863627dd",
   "metadata": {},
   "outputs": [],
   "source": [
    "# We save it into csv \n",
    "\n",
    "train_df.to_csv(\"train_datapoints.csv\", index=False)\n",
    "val_df.to_csv(\"val_datapoints.csv\", index=False)\n"
   ]
  },
  {
   "cell_type": "code",
   "execution_count": 520,
   "id": "27b10d74-48f9-4aa9-9fdb-86bd8942d248",
   "metadata": {},
   "outputs": [
    {
     "data": {
      "text/html": [
       "<div>\n",
       "<style scoped>\n",
       "    .dataframe tbody tr th:only-of-type {\n",
       "        vertical-align: middle;\n",
       "    }\n",
       "\n",
       "    .dataframe tbody tr th {\n",
       "        vertical-align: top;\n",
       "    }\n",
       "\n",
       "    .dataframe thead th {\n",
       "        text-align: right;\n",
       "    }\n",
       "</style>\n",
       "<table border=\"1\" class=\"dataframe\">\n",
       "  <thead>\n",
       "    <tr style=\"text-align: right;\">\n",
       "      <th></th>\n",
       "      <th>image_id</th>\n",
       "      <th>full_image_path</th>\n",
       "      <th>question</th>\n",
       "      <th>answer</th>\n",
       "    </tr>\n",
       "  </thead>\n",
       "  <tbody>\n",
       "    <tr>\n",
       "      <th>47339</th>\n",
       "      <td>619aXYWDlfL</td>\n",
       "      <td>abo-images-small/images/small/82/8281b602.jpg</td>\n",
       "      <td>what color is the ring?</td>\n",
       "      <td>white</td>\n",
       "    </tr>\n",
       "    <tr>\n",
       "      <th>67456</th>\n",
       "      <td>71oqXnBtfUL</td>\n",
       "      <td>abo-images-small/images/small/eb/ebb8f08b.jpg</td>\n",
       "      <td>what color is background?</td>\n",
       "      <td>pink</td>\n",
       "    </tr>\n",
       "    <tr>\n",
       "      <th>12308</th>\n",
       "      <td>618rflVTnTL</td>\n",
       "      <td>abo-images-small/images/small/b9/b9c8a85a.jpg</td>\n",
       "      <td>how many stripes are visible?</td>\n",
       "      <td>three</td>\n",
       "    </tr>\n",
       "    <tr>\n",
       "      <th>32557</th>\n",
       "      <td>61oFSxHBFLL</td>\n",
       "      <td>abo-images-small/images/small/68/6876f38e.jpg</td>\n",
       "      <td>what is the product?</td>\n",
       "      <td>case</td>\n",
       "    </tr>\n",
       "    <tr>\n",
       "      <th>664</th>\n",
       "      <td>717qOUqAkFL</td>\n",
       "      <td>abo-images-small/images/small/a9/a920ed25.jpg</td>\n",
       "      <td>what is the shape surrounding the image?</td>\n",
       "      <td>oval</td>\n",
       "    </tr>\n",
       "  </tbody>\n",
       "</table>\n",
       "</div>"
      ],
      "text/plain": [
       "          image_id                                full_image_path  \\\n",
       "47339  619aXYWDlfL  abo-images-small/images/small/82/8281b602.jpg   \n",
       "67456  71oqXnBtfUL  abo-images-small/images/small/eb/ebb8f08b.jpg   \n",
       "12308  618rflVTnTL  abo-images-small/images/small/b9/b9c8a85a.jpg   \n",
       "32557  61oFSxHBFLL  abo-images-small/images/small/68/6876f38e.jpg   \n",
       "664    717qOUqAkFL  abo-images-small/images/small/a9/a920ed25.jpg   \n",
       "\n",
       "                                       question answer  \n",
       "47339                   what color is the ring?  white  \n",
       "67456                 what color is background?   pink  \n",
       "12308             how many stripes are visible?  three  \n",
       "32557                      what is the product?   case  \n",
       "664    what is the shape surrounding the image?   oval  "
      ]
     },
     "execution_count": 520,
     "metadata": {},
     "output_type": "execute_result"
    }
   ],
   "source": [
    "train_df.head()"
   ]
  },
  {
   "cell_type": "code",
   "execution_count": 521,
   "id": "941342f0-5b26-466b-a0e6-8b0beebc77c2",
   "metadata": {},
   "outputs": [
    {
     "data": {
      "text/html": [
       "<div>\n",
       "<style scoped>\n",
       "    .dataframe tbody tr th:only-of-type {\n",
       "        vertical-align: middle;\n",
       "    }\n",
       "\n",
       "    .dataframe tbody tr th {\n",
       "        vertical-align: top;\n",
       "    }\n",
       "\n",
       "    .dataframe thead th {\n",
       "        text-align: right;\n",
       "    }\n",
       "</style>\n",
       "<table border=\"1\" class=\"dataframe\">\n",
       "  <thead>\n",
       "    <tr style=\"text-align: right;\">\n",
       "      <th></th>\n",
       "      <th>image_id</th>\n",
       "      <th>full_image_path</th>\n",
       "      <th>question</th>\n",
       "      <th>answer</th>\n",
       "    </tr>\n",
       "  </thead>\n",
       "  <tbody>\n",
       "    <tr>\n",
       "      <th>46730</th>\n",
       "      <td>71uK-r+TRtL</td>\n",
       "      <td>abo-images-small/images/small/bc/bc859253.jpg</td>\n",
       "      <td>what is the shape?</td>\n",
       "      <td>rectangular</td>\n",
       "    </tr>\n",
       "    <tr>\n",
       "      <th>48393</th>\n",
       "      <td>81qDgeDk8UL</td>\n",
       "      <td>abo-images-small/images/small/dc/dc90df81.jpg</td>\n",
       "      <td>what is more prominent, the dark or light part?</td>\n",
       "      <td>dark</td>\n",
       "    </tr>\n",
       "    <tr>\n",
       "      <th>41416</th>\n",
       "      <td>61JHYkmJsKL</td>\n",
       "      <td>abo-images-small/images/small/88/88d73c91.jpg</td>\n",
       "      <td>which word is smaller, \"time\" or \"aayega\"?</td>\n",
       "      <td>time</td>\n",
       "    </tr>\n",
       "    <tr>\n",
       "      <th>34506</th>\n",
       "      <td>51Ftiw-ZG8L</td>\n",
       "      <td>abo-images-small/images/small/a9/a9ebb518.jpg</td>\n",
       "      <td>what time is shown?</td>\n",
       "      <td>8:08</td>\n",
       "    </tr>\n",
       "    <tr>\n",
       "      <th>43725</th>\n",
       "      <td>61S5Jup3CJL</td>\n",
       "      <td>abo-images-small/images/small/d7/d7e9fd72.jpg</td>\n",
       "      <td>what color is the background?</td>\n",
       "      <td>pink</td>\n",
       "    </tr>\n",
       "  </tbody>\n",
       "</table>\n",
       "</div>"
      ],
      "text/plain": [
       "          image_id                                full_image_path  \\\n",
       "46730  71uK-r+TRtL  abo-images-small/images/small/bc/bc859253.jpg   \n",
       "48393  81qDgeDk8UL  abo-images-small/images/small/dc/dc90df81.jpg   \n",
       "41416  61JHYkmJsKL  abo-images-small/images/small/88/88d73c91.jpg   \n",
       "34506  51Ftiw-ZG8L  abo-images-small/images/small/a9/a9ebb518.jpg   \n",
       "43725  61S5Jup3CJL  abo-images-small/images/small/d7/d7e9fd72.jpg   \n",
       "\n",
       "                                              question       answer  \n",
       "46730                               what is the shape?  rectangular  \n",
       "48393  what is more prominent, the dark or light part?         dark  \n",
       "41416       which word is smaller, \"time\" or \"aayega\"?         time  \n",
       "34506                              what time is shown?         8:08  \n",
       "43725                    what color is the background?         pink  "
      ]
     },
     "execution_count": 521,
     "metadata": {},
     "output_type": "execute_result"
    }
   ],
   "source": [
    "val_df.head()"
   ]
  },
  {
   "cell_type": "code",
   "execution_count": null,
   "id": "55efaeff-5ac2-42f6-8370-01ada4c1668d",
   "metadata": {},
   "outputs": [],
   "source": []
  },
  {
   "cell_type": "code",
   "execution_count": null,
   "id": "35b492d1-b58c-44e8-a00e-a0a4a88565bd",
   "metadata": {},
   "outputs": [],
   "source": []
  },
  {
   "cell_type": "code",
   "execution_count": null,
   "id": "beb2636c-b9ab-411b-b035-4f27ac63ebb9",
   "metadata": {},
   "outputs": [],
   "source": []
  },
  {
   "cell_type": "code",
   "execution_count": null,
   "id": "727d8f41-9cc0-4044-8e88-1e65ecc5fc60",
   "metadata": {},
   "outputs": [],
   "source": []
  },
  {
   "cell_type": "code",
   "execution_count": null,
   "id": "4607f45d-b112-4f99-90ae-ae4385c3b534",
   "metadata": {},
   "outputs": [],
   "source": []
  },
  {
   "cell_type": "code",
   "execution_count": null,
   "id": "c1fe049c-f399-4df7-a022-7de9740aaac2",
   "metadata": {},
   "outputs": [],
   "source": []
  },
  {
   "cell_type": "code",
   "execution_count": null,
   "id": "d8d3b255-bc8e-4d73-9727-8410baebc83d",
   "metadata": {},
   "outputs": [],
   "source": []
  },
  {
   "cell_type": "code",
   "execution_count": null,
   "id": "0a8dd168-d001-4f9c-ac5f-767885a241f5",
   "metadata": {},
   "outputs": [],
   "source": []
  },
  {
   "cell_type": "code",
   "execution_count": null,
   "id": "2458e304-528c-4c01-a8a9-553a78a16936",
   "metadata": {},
   "outputs": [],
   "source": []
  },
  {
   "cell_type": "code",
   "execution_count": null,
   "id": "3b660ae6-12fc-4d81-bba0-e9b7ac39a762",
   "metadata": {},
   "outputs": [],
   "source": []
  }
 ],
 "metadata": {
  "kernelspec": {
   "display_name": "Python 3 (ipykernel)",
   "language": "python",
   "name": "python3"
  },
  "language_info": {
   "codemirror_mode": {
    "name": "ipython",
    "version": 3
   },
   "file_extension": ".py",
   "mimetype": "text/x-python",
   "name": "python",
   "nbconvert_exporter": "python",
   "pygments_lexer": "ipython3",
   "version": "3.10.12"
  }
 },
 "nbformat": 4,
 "nbformat_minor": 5
}
